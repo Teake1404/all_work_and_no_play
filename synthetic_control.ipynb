{
 "cells": [
  {
   "cell_type": "code",
   "execution_count": null,
   "id": "precise-count",
   "metadata": {},
   "outputs": [],
   "source": [
    "## Notice that the following takes quite a long time to install. \n",
    "## It will throw warnings due to dependency issues, but they can be ignored if run on JupyterHub\n",
    "\n",
    "# %pip install -qq SyntheticControlMethods"
   ]
  },
  {
   "cell_type": "code",
   "execution_count": null,
   "id": "controlling-decrease",
   "metadata": {},
   "outputs": [],
   "source": [
    "import pydata_google_auth\n",
    "import pandas_gbq\n",
    "import pandas as pd\n",
    "!pip install SyntheticControlMethods --quiet "
   ]
  },
  {
   "cell_type": "code",
   "execution_count": null,
   "id": "single-queue",
   "metadata": {},
   "outputs": [],
   "source": [
    "PROJECT_ID = 'uw-data-platform-prod'\n",
    "\n",
    "auth = pydata_google_auth.get_user_credentials(scopes=[\"https://www.googleapis.com/auth/bigquery\"])"
   ]
  },
  {
   "cell_type": "code",
   "execution_count": null,
   "id": "regulation-efficiency",
   "metadata": {},
   "outputs": [],
   "source": [
    "ids_q = \"\"\"SELECT DISTINCT partner_position_id FROM \n",
    "`uw-partner-prod.metrics_analysis.partner_position_master_data_daily` \n",
    "\"\"\""
   ]
  },
  {
   "cell_type": "code",
   "execution_count": null,
   "id": "independent-conviction",
   "metadata": {},
   "outputs": [],
   "source": [
    "observed_features = ['jtc_applications_last_3m', 'articles_unique_days_viewed_last_1m',\n",
    "                     'prospects_unique_days_viewed_last_1m', 'learning_plans_started_last_1m',\n",
    "                    'days_logged_into_portal_last_3m', \"customers_gathered_last_1m\"]\n",
    "\n",
    "_id = ['partner_position_id', 'snapshot_date', 'avg_monthly_ri_earned_last_1y']"
   ]
  },
  {
   "cell_type": "code",
   "execution_count": null,
   "id": "removed-accordance",
   "metadata": {},
   "outputs": [],
   "source": [
    "## A copy of this file can be downloaded from \n",
    "## https://drive.google.com/file/d/1VWyqF_lzN3ABcsyrkTF-HayiUO3F_Gsr/view?usp=sharing\n",
    "population = pd.read_csv('../dashboard_experiment.csv')\n",
    "population_ids = population.partner_position_id.tolist()"
   ]
  },
  {
   "cell_type": "code",
   "execution_count": null,
   "id": "together-remark",
   "metadata": {},
   "outputs": [],
   "source": [
    "_id_list = \"', '\".join(population_ids)\n",
    "ids_pattern = \"\" if _id_list is None else f\"WHERE partner_position_id IN ('{_id_list}')\"\n",
    "q_pattern = \"SELECT {} FROM `uw-partner-prod.metrics_analysis.partner_position_master_data_daily` {} ORDER BY 1, 2\"\n",
    "features_query = q_pattern.format(' ,'.join(_id + observed_features), ids_pattern)\n"
   ]
  },
  {
   "cell_type": "code",
   "execution_count": null,
   "id": "timely-librarian",
   "metadata": {},
   "outputs": [],
   "source": [
    "try:\n",
    "    resp_df = pd.read_gbq(features_query, PROJECT_ID, credentials=auth, use_bqstorage_api=True )\n",
    "except ValueError:\n",
    "    resp_df = pd.read_gbq(features_query, 'uw-data-warehouse-prod', credentials=auth, use_bqstorage_api=True )"
   ]
  },
  {
   "cell_type": "code",
   "execution_count": null,
   "id": "disciplinary-violence",
   "metadata": {},
   "outputs": [],
   "source": [
    "grouped_df = resp_df.set_index('partner_position_id').join(population.set_index('partner_position_id')\n",
    "                                              ['is_test'], how='inner').groupby(['is_test', 'snapshot_date']).mean()"
   ]
  },
  {
   "cell_type": "code",
   "execution_count": null,
   "id": "dried-aquatic",
   "metadata": {},
   "outputs": [],
   "source": [
    "population['experiment_group'] = 'None'\n",
    "population.loc[population.is_test, 'experiment_group'] = 'Test'\n",
    "population.loc[population.is_control, 'experiment_group'] = 'Control'"
   ]
  },
  {
   "cell_type": "code",
   "execution_count": null,
   "id": "cutting-vegetation",
   "metadata": {},
   "outputs": [],
   "source": [
    "data_df = resp_df.set_index('partner_position_id').join(population.set_index('partner_position_id')\n",
    "                                              [['is_test', 'is_control', 'experiment_group']], how='inner')"
   ]
  },
  {
   "cell_type": "code",
   "execution_count": null,
   "id": "patent-small",
   "metadata": {},
   "outputs": [],
   "source": [
    "data_df['has_gathered_last_1m'] = data_df['customers_gathered_last_1m'] > 0"
   ]
  },
  {
   "cell_type": "code",
   "execution_count": null,
   "id": "sustained-cowboy",
   "metadata": {},
   "outputs": [],
   "source": [
    "columns = ['snapshot_date', 'avg_monthly_ri_earned_last_1y',\n",
    "       'jtc_applications_last_3m', 'articles_unique_days_viewed_last_1m',\n",
    "       'prospects_unique_days_viewed_last_1m',\n",
    "       'learning_plans_started_last_1m', 'days_logged_into_portal_last_3m',\n",
    "       'customers_gathered_last_1m', 'has_gathered_last_1m']"
   ]
  },
  {
   "cell_type": "code",
   "execution_count": null,
   "id": "bacterial-samoa",
   "metadata": {},
   "outputs": [],
   "source": [
    "#This file can be downloaded from \n",
    "### https://drive.google.com/file/d/10ly8E4VUwillgW-HamvElkfVv4g1pKuP/view?usp=sharing\n",
    "\n",
    "import pickle\n",
    "with open('control_ids.pkl', 'rb') as f:\n",
    "    control_ids = pickle.load(f)"
   ]
  },
  {
   "cell_type": "code",
   "execution_count": null,
   "id": "illegal-plate",
   "metadata": {},
   "outputs": [],
   "source": [
    "N_controls = 10\n",
    "controls_size = 40\n",
    "RS = 118\n",
    "control_group = data_df.loc[data_df.is_control, columns].reset_index()\n",
    "# control_ids = (control_group\n",
    "#                .loc[control_group.snapshot_date == '2021-03-09', 'partner_position_id']\n",
    "#                .drop_duplicates()\n",
    "#                .sample(controls_size * N_controls, random_state=RS)\n",
    "#                .tolist())\n",
    "small_controls = [control_ids[i * controls_size: (i + 1) * controls_size] for i in range(N_controls)]\n",
    "controls = []\n",
    "for i, g in enumerate(small_controls):\n",
    "    cg = control_group[control_group.partner_position_id.isin(g)].reset_index(drop=True).copy()\n",
    "    cg['partner_position_id'] = f'CONTROL{i}'\n",
    "    controls.append(cg.set_index('partner_position_id'))\n",
    "control_group = pd.concat(controls).groupby(['partner_position_id', 'snapshot_date']).mean().reset_index()"
   ]
  },
  {
   "cell_type": "code",
   "execution_count": null,
   "id": "expressed-ability",
   "metadata": {},
   "outputs": [],
   "source": [
    "data_df['avg_monthly_ri_earned_last_1y'] = data_df['avg_monthly_ri_earned_last_1y'].astype(float)\n",
    "treatment_group = data_df.loc[data_df.is_test, columns].groupby('snapshot_date').mean().reset_index()\n",
    "treatment_group['partner_position_id'] = 'TREATMENT'"
   ]
  },
  {
   "cell_type": "code",
   "execution_count": null,
   "id": "comic-latvia",
   "metadata": {},
   "outputs": [],
   "source": [
    "data_prepped = pd.concat([treatment_group.set_index('partner_position_id'), control_group.set_index('partner_position_id')]).reset_index()"
   ]
  },
  {
   "cell_type": "code",
   "execution_count": null,
   "id": "national-lighter",
   "metadata": {},
   "outputs": [],
   "source": [
    "data_prepped['snapshot_date'] = (data_prepped.snapshot_date - pd.to_datetime('2021-03-11')).dt.days"
   ]
  },
  {
   "cell_type": "code",
   "execution_count": null,
   "id": "stock-tuner",
   "metadata": {},
   "outputs": [],
   "source": [
    "import SyntheticControlMethods as scm"
   ]
  },
  {
   "cell_type": "code",
   "execution_count": null,
   "id": "looking-petite",
   "metadata": {},
   "outputs": [],
   "source": [
    "import matplotlib.pyplot as plt\n",
    "\n",
    "plt.style.use('seaborn')\n",
    "\n",
    "_df = data_prepped.set_index('snapshot_date')\n",
    "\n",
    "for f in _df.columns[1:-2]:\n",
    "    fig, ax = plt.subplots(figsize=(12, 4))\n",
    "    ax.set_title(f)\n",
    "    for pid in sorted(_df.partner_position_id.unique())[-5:]:\n",
    "        _df.loc[_df.partner_position_id == pid, f].plot(ax=ax, label=pid);\n",
    "    plt.legend();"
   ]
  },
  {
   "cell_type": "code",
   "execution_count": null,
   "id": "dying-rhythm",
   "metadata": {},
   "outputs": [],
   "source": [
    "sc = scm.Synth(data_prepped, \n",
    "               \"prospects_unique_days_viewed_last_1m\", \n",
    "               \"partner_position_id\", \"snapshot_date\", 1, \"TREATMENT\", pen=0)\n",
    "sc.plot([\"original\", \"pointwise\"], treated_label=\"Test Group\", \n",
    "            synth_label=\"Synthetic Control\", treatment_label=\"Intervention\")"
   ]
  },
  {
   "cell_type": "code",
   "execution_count": null,
   "id": "south-footage",
   "metadata": {},
   "outputs": [],
   "source": [
    "sc = scm.Synth(data_prepped, \n",
    "               \"articles_unique_days_viewed_last_1m\", \n",
    "               \"partner_position_id\", \"snapshot_date\", 1, \"TREATMENT\", pen=0)\n",
    "sc.plot([\"original\", \"pointwise\"], treated_label=\"Test Group\", \n",
    "            synth_label=\"Synthetic Control\", treatment_label=\"Intervention\")"
   ]
  },
  {
   "cell_type": "code",
   "execution_count": null,
   "id": "strategic-breakfast",
   "metadata": {},
   "outputs": [],
   "source": [
    "sc = scm.Synth(data_prepped, \n",
    "               \"customers_gathered_last_1m\", \n",
    "               \"partner_position_id\", \"snapshot_date\", 1, \"TREATMENT\", pen=0)\n",
    "sc.plot([\"original\", \"pointwise\"], treated_label=\"Test Group\", \n",
    "            synth_label=\"Synthetic Control\", treatment_label=\"Intervention\")"
   ]
  },
  {
   "cell_type": "code",
   "execution_count": null,
   "id": "vital-station",
   "metadata": {},
   "outputs": [],
   "source": [
    "sc = scm.Synth(data_prepped, \n",
    "               \"has_gathered_last_1m\", \n",
    "               \"partner_position_id\", \"snapshot_date\", 1, \"TREATMENT\", pen=0)\n",
    "sc.plot([\"original\", \"pointwise\"], treated_label=\"Test Group\", \n",
    "            synth_label=\"Synthetic Control\", treatment_label=\"Intervention\")"
   ]
  },
  {
   "cell_type": "code",
   "execution_count": null,
   "id": "fatal-interpretation",
   "metadata": {},
   "outputs": [],
   "source": []
  }
 ],
 "metadata": {
  "kernelspec": {
   "display_name": "Python 3",
   "language": "python",
   "name": "python3"
  },
  "language_info": {
   "codemirror_mode": {
    "name": "ipython",
    "version": 3
   },
   "file_extension": ".py",
   "mimetype": "text/x-python",
   "name": "python",
   "nbconvert_exporter": "python",
   "pygments_lexer": "ipython3",
   "version": "3.8.8"
  }
 },
 "nbformat": 4,
 "nbformat_minor": 5
}
