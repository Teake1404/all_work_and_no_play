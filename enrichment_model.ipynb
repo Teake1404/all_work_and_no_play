{
 "cells": [
  {
   "cell_type": "code",
   "execution_count": 1,
   "id": "heated-commander",
   "metadata": {},
   "outputs": [],
   "source": [
    "from utils.all import *"
   ]
  },
  {
   "cell_type": "code",
   "execution_count": 10,
   "id": "different-diploma",
   "metadata": {},
   "outputs": [],
   "source": [
    "import pandas as pd\n",
    "import numpy as np\n",
    "import matplotlib.pyplot as plt\n",
    "import seaborn as sns\n",
    "%matplotlib inline\n",
    "from sklearn.metrics import f1_score,precision_score,recall_score\n",
    "import itertools\n",
    "import joblib\n",
    "import os"
   ]
  },
  {
   "cell_type": "code",
   "execution_count": 3,
   "id": "expensive-drunk",
   "metadata": {},
   "outputs": [],
   "source": [
    "sql=\"\"\"\n",
    "SELECT * FROM `uw-partner-prod.experimental.lead_conversions` \n",
    "WHERE prospect_creation_date >= '2020-10-01'\n",
    "\n",
    "\"\"\""
   ]
  },
  {
   "cell_type": "code",
   "execution_count": 4,
   "id": "perceived-officer",
   "metadata": {},
   "outputs": [
    {
     "name": "stdout",
     "output_type": "stream",
     "text": [
      "Please visit this URL to authorize this application: https://accounts.google.com/o/oauth2/auth?response_type=code&client_id=262006177488-3425ks60hkk80fssi9vpohv88g6q1iqd.apps.googleusercontent.com&redirect_uri=urn%3Aietf%3Awg%3Aoauth%3A2.0%3Aoob&scope=https%3A%2F%2Fwww.googleapis.com%2Fauth%2Fbigquery&state=4khLkQwCexbcmn2qMFFz0eVHDKDwp9&prompt=consent&access_type=offline\n",
      "Enter the authorization code: 4/1AX4XfWjbX0Zl6O1CYRcA66gK8GNaAd7DUeWhS-TdN3CyAqr0u23nG-QAJho\n"
     ]
    },
    {
     "data": {
      "application/vnd.jupyter.widget-view+json": {
       "model_id": "dad9a18f376d41eb9645762b6faa21bf",
       "version_major": 2,
       "version_minor": 0
      },
      "text/plain": [
       "Downloading:   0%|          | 0/155123 [00:00<?, ?rows/s]"
      ]
     },
     "metadata": {},
     "output_type": "display_data"
    }
   ],
   "source": [
    "raw_df=download_data(project_id='uw-data-warehouse-prod',query=sql)"
   ]
  },
  {
   "cell_type": "code",
   "execution_count": 7,
   "id": "departmental-eligibility",
   "metadata": {},
   "outputs": [],
   "source": [
    "raw_df['customer_ltv']=raw_df.customer_ltv.astype(float)"
   ]
  },
  {
   "cell_type": "code",
   "execution_count": 8,
   "id": "precise-kazakhstan",
   "metadata": {},
   "outputs": [],
   "source": [
    "def split_train_valid(df, split_pct=.8):\n",
    "    \"\"\"Utility function to split the `df` into train and validation dataset, sorting by the `prospect_creation_date`\"\"\"\n",
    "    validation_split_date = np.quantile(df.prospect_creation_date, q=split_pct)\n",
    "    valid = df.loc[df.prospect_creation_date >= validation_split_date].reset_index(drop=True).copy()\n",
    "    train = df.loc[df.prospect_creation_date < validation_split_date].reset_index(drop=True).copy()\n",
    "    return train, valid"
   ]
  },
  {
   "cell_type": "code",
   "execution_count": 7,
   "id": "corrected-album",
   "metadata": {},
   "outputs": [],
   "source": [
    "def compute_cost(df, failed_cost, value_col):\n",
    "    value = df.loc[df['converted'],value_col].sum()\n",
    "    price = (~df['converted']).sum() * failed_cost\n",
    "    return price - value\n",
    "\n",
    "def recommendation_regret(df, false_positive_cost, \n",
    "                          recommendation_col='recommended', \n",
    "                          value_col='customer_ltv'): ## Use \"recommended\" if you pick X=1\n",
    "    recommended = df.loc[df[recommendation_col]].copy()# positives \n",
    "    not_recommended = df.loc[~df[recommendation_col]].copy() # negatives \n",
    "    recommended_cost =  compute_cost(recommended, false_positive_cost, value_col) # -(TP customer values - FP efforts) TP*x-Y*FP\n",
    "    not_recommended_cost = - compute_cost(not_recommended, false_positive_cost, value_col )# TN cost saved -FN losing customer price \n",
    "    return recommended_cost + not_recommended_cost                     # value= (~df['converted']).sum() * failed_cost\n",
    "                                                                       # price = FN *X\n",
    "                                                                       # value-price= -(*price-*value)"
   ]
  },
  {
   "cell_type": "markdown",
   "id": "atlantic-administration",
   "metadata": {},
   "source": [
    "The way we set $Y$ means that if we were to recommend all prospects or no prospect at all, the regret would be 0. That is, recommending everyone or nobody is the same as not having a recommendation system at all. \n",
    "So when raw_df['recommended'] = True, regret should be 0. If regret =0, \n",
    "df.loc[df.converted,value_col].sum() = (~df.converted).sum()*failed_cost, so y = failed_cost\n",
    "when value_col value =1, X=1, \n",
    "failed_cost=raw_df.loc[raw_df.converted,'customer_ltv'].sum()/(~df.converted).sum()"
   ]
  },
  {
   "cell_type": "code",
   "execution_count": 90,
   "id": "certain-formula",
   "metadata": {},
   "outputs": [],
   "source": [
    "## Use this if you want X to be 1\n",
    "# cost = raw_df['converted'].sum() / (~raw_df['converted']).sum()\n",
    "\n",
    "## Use this if you want X to be the customer lifetime value\n",
    "cost = raw_df['customer_ltv'].sum() / (~raw_df['converted']).sum()\n"
   ]
  },
  {
   "cell_type": "code",
   "execution_count": 91,
   "id": "offshore-gasoline",
   "metadata": {},
   "outputs": [
    {
     "data": {
      "text/plain": [
       "0.07028133092167758"
      ]
     },
     "execution_count": 91,
     "metadata": {},
     "output_type": "execute_result"
    }
   ],
   "source": [
    "cost"
   ]
  },
  {
   "cell_type": "code",
   "execution_count": 131,
   "id": "assisted-joshua",
   "metadata": {},
   "outputs": [
    {
     "data": {
      "text/plain": [
       "(1.8189894035458565e-12, -348.0422308683228, 348.04223086832667)"
      ]
     },
     "execution_count": 131,
     "metadata": {},
     "output_type": "execute_result"
    }
   ],
   "source": [
    "raw_df['recommended'] = True\n",
    "t, v = split_train_valid(raw_df)\n",
    "recommendation_regret(raw_df, cost), recommendation_regret(t, cost), recommendation_regret(v, cost)"
   ]
  },
  {
   "cell_type": "code",
   "execution_count": 93,
   "id": "enclosed-douglas",
   "metadata": {},
   "outputs": [
    {
     "data": {
      "text/plain": [
       "(-1.8189894035458565e-12, 348.0422308683228, -348.04223086832667)"
      ]
     },
     "execution_count": 93,
     "metadata": {},
     "output_type": "execute_result"
    }
   ],
   "source": [
    "raw_df['recommended'] = False\n",
    "t, v = split_train_valid(raw_df)\n",
    "recommendation_regret(raw_df, cost), recommendation_regret(t, cost), recommendation_regret(v, cost)"
   ]
  },
  {
   "cell_type": "code",
   "execution_count": 94,
   "id": "thorough-space",
   "metadata": {},
   "outputs": [
    {
     "data": {
      "text/plain": [
       "(0.009269763070041811, 0.008861278420737284)"
      ]
     },
     "execution_count": 94,
     "metadata": {},
     "output_type": "execute_result"
    }
   ],
   "source": [
    "t.converted.mean(), v.converted.mean()"
   ]
  },
  {
   "cell_type": "code",
   "execution_count": 95,
   "id": "freelance-modeling",
   "metadata": {},
   "outputs": [],
   "source": [
    "\n",
    "high_scores = [\n",
    "    'ENERGY_SUPPLIER_OVO_ENERGY',\n",
    "    'ENERGY_SUPPLIER_BRITISH_GAS', \n",
    "    'ENERGY_SUPPLIER_SCOTTISH_POWER',\n",
    "    'ENERGY_SUPPLIER_EDF_ENERGY',\n",
    "    'ENERGY_SUPPLIER_NPOWER', \n",
    "    'ENERGY_SUPPLIER_SSE', \n",
    "    'ENERGY_SUPPLIER_EON', \n",
    "    'ENERGY_SUPPLIER_SHELL_ENERGY', \n",
    "]\n",
    "\n",
    "raw_df['elec_score'] = raw_df.elec_supplier.apply(lambda x: 2 if x in high_scores else 0)\n",
    "raw_df['elec_score'] += raw_df.elec_supplier == 'ENERGY_SUPPLIER_BULB'\n",
    "\n",
    "raw_df['gas_score'] = raw_df.gas_supplier.apply(lambda x: 2 if x in high_scores else 0)\n",
    "raw_df['gas_score'] += raw_df.gas_supplier == 'ENERGY_SUPPLIER_BULB'"
   ]
  },
  {
   "cell_type": "code",
   "execution_count": 97,
   "id": "clear-living",
   "metadata": {},
   "outputs": [],
   "source": [
    "raw_df['supply_score'] = raw_df.elec_supplier_start_date.isna().astype(int)\n",
    "raw_df['supply_score'] += ((raw_df.prospect_creation_date.dt.date - raw_df.elec_supplier_start_date.dt.date).dt.days >= 365)\n",
    "raw_df['supply_score'] += ((raw_df.prospect_creation_date.dt.date - raw_df.elec_supplier_start_date.dt.date).dt.days >= 365 * 3)\n"
   ]
  },
  {
   "cell_type": "code",
   "execution_count": 98,
   "id": "immune-binding",
   "metadata": {},
   "outputs": [],
   "source": [
    "raw_df['switch_score'] = raw_df['elec_score'] + raw_df['gas_score'] + raw_df['supply_score'] \n",
    "raw_df['recommended'] = raw_df['switch_score'] >= 4"
   ]
  },
  {
   "cell_type": "code",
   "execution_count": 99,
   "id": "bulgarian-chuck",
   "metadata": {},
   "outputs": [
    {
     "data": {
      "text/plain": [
       "0.18973975490417283"
      ]
     },
     "execution_count": 99,
     "metadata": {},
     "output_type": "execute_result"
    }
   ],
   "source": [
    "raw_df.recommended.mean()"
   ]
  },
  {
   "cell_type": "code",
   "execution_count": 100,
   "id": "emotional-toilet",
   "metadata": {},
   "outputs": [
    {
     "data": {
      "text/plain": [
       "recommended\n",
       "False    0.009515\n",
       "True     0.007780\n",
       "Name: converted, dtype: float64"
      ]
     },
     "execution_count": 100,
     "metadata": {},
     "output_type": "execute_result"
    }
   ],
   "source": [
    "raw_df.groupby('recommended')['converted'].mean()"
   ]
  },
  {
   "cell_type": "code",
   "execution_count": 101,
   "id": "numerical-wellington",
   "metadata": {},
   "outputs": [
    {
     "data": {
      "text/plain": [
       "(0.007780382563788944, 0.1607017543859649, 0.014842180309806208)"
      ]
     },
     "execution_count": 101,
     "metadata": {},
     "output_type": "execute_result"
    }
   ],
   "source": [
    "# On the whole dataset:\n",
    "# Precision 0.8%\n",
    "# Recall 16%\n",
    "# F1 1.4%\n",
    "truth = raw_df.converted\n",
    "pred = raw_df.recommended\n",
    "precision_score(truth, pred), recall_score(truth, pred), f1_score(truth, pred)\n"
   ]
  },
  {
   "cell_type": "code",
   "execution_count": 102,
   "id": "spoken-encyclopedia",
   "metadata": {},
   "outputs": [
    {
     "data": {
      "text/plain": [
       "(399.39197647334186, 353.19480149383617, 46.19717497950495)"
      ]
     },
     "execution_count": 102,
     "metadata": {},
     "output_type": "execute_result"
    }
   ],
   "source": [
    "t, v = split_train_valid(raw_df)\n",
    "recommendation_regret(raw_df, cost), recommendation_regret(t, cost), recommendation_regret(v, cost)\n"
   ]
  },
  {
   "cell_type": "code",
   "execution_count": 103,
   "id": "decreased-haven",
   "metadata": {},
   "outputs": [
    {
     "data": {
      "text/plain": [
       "0      8234\n",
       "1    104205\n",
       "2      8285\n",
       "3      4966\n",
       "4     13205\n",
       "5      3869\n",
       "6     12359\n",
       "Name: switch_score, dtype: int64"
      ]
     },
     "execution_count": 103,
     "metadata": {},
     "output_type": "execute_result"
    }
   ],
   "source": [
    "raw_df['switch_score'].value_counts().sort_index()"
   ]
  },
  {
   "cell_type": "code",
   "execution_count": 104,
   "id": "frozen-medline",
   "metadata": {},
   "outputs": [
    {
     "data": {
      "text/plain": [
       "switch_score\n",
       "0    0.008987\n",
       "1    0.009606\n",
       "2    0.007846\n",
       "3    0.011277\n",
       "4    0.008633\n",
       "5    0.009046\n",
       "6    0.006473\n",
       "Name: converted, dtype: float64"
      ]
     },
     "execution_count": 104,
     "metadata": {},
     "output_type": "execute_result"
    }
   ],
   "source": [
    "raw_df.groupby('switch_score')['converted'].mean()"
   ]
  },
  {
   "cell_type": "code",
   "execution_count": 105,
   "id": "disciplinary-liberia",
   "metadata": {},
   "outputs": [
    {
     "data": {
      "text/plain": [
       "switch_score\n",
       "0    9.387324\n",
       "1    8.105660\n",
       "2    8.671429\n",
       "3    7.878182\n",
       "4    8.485455\n",
       "5    7.865625\n",
       "6    9.273611\n",
       "Name: customer_ltv, dtype: float64"
      ]
     },
     "execution_count": 105,
     "metadata": {},
     "output_type": "execute_result"
    }
   ],
   "source": [
    "raw_df.groupby('switch_score')['customer_ltv'].mean()"
   ]
  },
  {
   "cell_type": "code",
   "execution_count": 106,
   "id": "interim-community",
   "metadata": {},
   "outputs": [
    {
     "data": {
      "text/plain": [
       "(0.1581531779729686, 0.31266752861782976)"
      ]
     },
     "execution_count": 106,
     "metadata": {},
     "output_type": "execute_result"
    }
   ],
   "source": [
    "t.recommended.mean(), v.recommended.mean()"
   ]
  },
  {
   "cell_type": "code",
   "execution_count": 107,
   "id": "hawaiian-league",
   "metadata": {},
   "outputs": [
    {
     "name": "stdout",
     "output_type": "stream",
     "text": [
      "0 1.8189894035458565e-12\n",
      "1 186.0086793582244\n",
      "2 285.7797264765959\n",
      "3 222.95464612421574\n",
      "4 399.39197647334186\n",
      "5 426.0861702819801\n",
      "6 390.568924774558\n"
     ]
    }
   ],
   "source": [
    "for i in range(7):\n",
    "    raw_df['recommended'] = raw_df['switch_score'] >= i\n",
    "    cost_at_threhold = recommendation_regret(raw_df, cost)\n",
    "    print(i, cost_at_threhold)"
   ]
  },
  {
   "cell_type": "code",
   "execution_count": 108,
   "id": "distinguished-quick",
   "metadata": {},
   "outputs": [],
   "source": [
    "def split_by_thresholds(df, column, high_t, mid_t):\n",
    "    _df = df.groupby(column)['converted'].agg(['mean', 'count']).sort_values('mean').copy()\n",
    "    high =  _df.loc[_df['mean'] > high_t].index.tolist()\n",
    "    mid = _df.loc[(_df['mean'] > mid_t) & (_df['mean'] < high_t)].index.tolist()\n",
    "    return [s for s in high if s != 'ENERGY_SUPPLIER_TELECOM_PLUS'], [s for s in mid if s != 'ENERGY_SUPPLIER_TELECOM_PLUS']\n"
   ]
  },
  {
   "cell_type": "code",
   "execution_count": 109,
   "id": "documented-cannon",
   "metadata": {},
   "outputs": [
    {
     "data": {
      "text/html": [
       "<div>\n",
       "<style scoped>\n",
       "    .dataframe tbody tr th:only-of-type {\n",
       "        vertical-align: middle;\n",
       "    }\n",
       "\n",
       "    .dataframe tbody tr th {\n",
       "        vertical-align: top;\n",
       "    }\n",
       "\n",
       "    .dataframe thead th {\n",
       "        text-align: right;\n",
       "    }\n",
       "</style>\n",
       "<table border=\"1\" class=\"dataframe\">\n",
       "  <thead>\n",
       "    <tr style=\"text-align: right;\">\n",
       "      <th></th>\n",
       "      <th>mean</th>\n",
       "      <th>count</th>\n",
       "    </tr>\n",
       "    <tr>\n",
       "      <th>elec_supplier</th>\n",
       "      <th></th>\n",
       "      <th></th>\n",
       "    </tr>\n",
       "  </thead>\n",
       "  <tbody>\n",
       "    <tr>\n",
       "      <th>ENERGY_SUPPLIER_OCTOPUS</th>\n",
       "      <td>0.006207</td>\n",
       "      <td>4833</td>\n",
       "    </tr>\n",
       "    <tr>\n",
       "      <th>ENERGY_SUPPLIER_EON</th>\n",
       "      <td>0.006579</td>\n",
       "      <td>5776</td>\n",
       "    </tr>\n",
       "    <tr>\n",
       "      <th>ENERGY_SUPPLIER_EDF_ENERGY</th>\n",
       "      <td>0.006880</td>\n",
       "      <td>5087</td>\n",
       "    </tr>\n",
       "    <tr>\n",
       "      <th>ENERGY_SUPPLIER_TELECOM_PLUS</th>\n",
       "      <td>0.007089</td>\n",
       "      <td>2539</td>\n",
       "    </tr>\n",
       "    <tr>\n",
       "      <th>ENERGY_SUPPLIER_BRITISH_GAS</th>\n",
       "      <td>0.008134</td>\n",
       "      <td>9589</td>\n",
       "    </tr>\n",
       "    <tr>\n",
       "      <th>ENERGY_SUPPLIER_SHELL_ENERGY</th>\n",
       "      <td>0.008264</td>\n",
       "      <td>2057</td>\n",
       "    </tr>\n",
       "    <tr>\n",
       "      <th>ENERGY_SUPPLIER_OTHER</th>\n",
       "      <td>0.008328</td>\n",
       "      <td>10447</td>\n",
       "    </tr>\n",
       "    <tr>\n",
       "      <th>ENERGY_SUPPLIER_NPOWER</th>\n",
       "      <td>0.008333</td>\n",
       "      <td>480</td>\n",
       "    </tr>\n",
       "    <tr>\n",
       "      <th>ENERGY_SUPPLIER_SCOTTISH_POWER</th>\n",
       "      <td>0.008732</td>\n",
       "      <td>4810</td>\n",
       "    </tr>\n",
       "    <tr>\n",
       "      <th>ENERGY_SUPPLIER_SSE</th>\n",
       "      <td>0.009707</td>\n",
       "      <td>4739</td>\n",
       "    </tr>\n",
       "    <tr>\n",
       "      <th>ENERGY_SUPPLIER_UNKNOWN</th>\n",
       "      <td>0.009901</td>\n",
       "      <td>101</td>\n",
       "    </tr>\n",
       "    <tr>\n",
       "      <th>ENERGY_SUPPLIER_UTILITA</th>\n",
       "      <td>0.010008</td>\n",
       "      <td>1299</td>\n",
       "    </tr>\n",
       "    <tr>\n",
       "      <th>ENERGY_SUPPLIER_OVO_ENERGY</th>\n",
       "      <td>0.010349</td>\n",
       "      <td>1546</td>\n",
       "    </tr>\n",
       "    <tr>\n",
       "      <th>ENERGY_SUPPLIER_BULB</th>\n",
       "      <td>0.012258</td>\n",
       "      <td>3508</td>\n",
       "    </tr>\n",
       "    <tr>\n",
       "      <th>ENERGY_SUPPLIER_NONE</th>\n",
       "      <td>0.044518</td>\n",
       "      <td>2426</td>\n",
       "    </tr>\n",
       "  </tbody>\n",
       "</table>\n",
       "</div>"
      ],
      "text/plain": [
       "                                    mean  count\n",
       "elec_supplier                                  \n",
       "ENERGY_SUPPLIER_OCTOPUS         0.006207   4833\n",
       "ENERGY_SUPPLIER_EON             0.006579   5776\n",
       "ENERGY_SUPPLIER_EDF_ENERGY      0.006880   5087\n",
       "ENERGY_SUPPLIER_TELECOM_PLUS    0.007089   2539\n",
       "ENERGY_SUPPLIER_BRITISH_GAS     0.008134   9589\n",
       "ENERGY_SUPPLIER_SHELL_ENERGY    0.008264   2057\n",
       "ENERGY_SUPPLIER_OTHER           0.008328  10447\n",
       "ENERGY_SUPPLIER_NPOWER          0.008333    480\n",
       "ENERGY_SUPPLIER_SCOTTISH_POWER  0.008732   4810\n",
       "ENERGY_SUPPLIER_SSE             0.009707   4739\n",
       "ENERGY_SUPPLIER_UNKNOWN         0.009901    101\n",
       "ENERGY_SUPPLIER_UTILITA         0.010008   1299\n",
       "ENERGY_SUPPLIER_OVO_ENERGY      0.010349   1546\n",
       "ENERGY_SUPPLIER_BULB            0.012258   3508\n",
       "ENERGY_SUPPLIER_NONE            0.044518   2426"
      ]
     },
     "execution_count": 109,
     "metadata": {},
     "output_type": "execute_result"
    }
   ],
   "source": [
    "raw_df.groupby('elec_supplier')['converted'].agg(['mean', 'count']).sort_values('mean')\n"
   ]
  },
  {
   "cell_type": "code",
   "execution_count": 111,
   "id": "automotive-small",
   "metadata": {},
   "outputs": [],
   "source": [
    "high_scores, mid_scores = split_by_thresholds(raw_df, 'elec_supplier', .009, .008)\n",
    "\n",
    "raw_df['elec_score'] = raw_df.elec_supplier.apply(lambda x: 2 if x in high_scores else 0)\n",
    "raw_df['elec_score'] += raw_df.elec_supplier.isin(mid_scores)\n",
    "\n"
   ]
  },
  {
   "cell_type": "code",
   "execution_count": 112,
   "id": "working-instrument",
   "metadata": {},
   "outputs": [
    {
     "data": {
      "text/html": [
       "<div>\n",
       "<style scoped>\n",
       "    .dataframe tbody tr th:only-of-type {\n",
       "        vertical-align: middle;\n",
       "    }\n",
       "\n",
       "    .dataframe tbody tr th {\n",
       "        vertical-align: top;\n",
       "    }\n",
       "\n",
       "    .dataframe thead th {\n",
       "        text-align: right;\n",
       "    }\n",
       "</style>\n",
       "<table border=\"1\" class=\"dataframe\">\n",
       "  <thead>\n",
       "    <tr style=\"text-align: right;\">\n",
       "      <th></th>\n",
       "      <th>mean</th>\n",
       "      <th>count</th>\n",
       "    </tr>\n",
       "    <tr>\n",
       "      <th>gas_supplier</th>\n",
       "      <th></th>\n",
       "      <th></th>\n",
       "    </tr>\n",
       "  </thead>\n",
       "  <tbody>\n",
       "    <tr>\n",
       "      <th>ENERGY_SUPPLIER_OCTOPUS</th>\n",
       "      <td>0.003183</td>\n",
       "      <td>3142</td>\n",
       "    </tr>\n",
       "    <tr>\n",
       "      <th>ENERGY_SUPPLIER_EON</th>\n",
       "      <td>0.004977</td>\n",
       "      <td>4621</td>\n",
       "    </tr>\n",
       "    <tr>\n",
       "      <th>ENERGY_SUPPLIER_NPOWER</th>\n",
       "      <td>0.005556</td>\n",
       "      <td>180</td>\n",
       "    </tr>\n",
       "    <tr>\n",
       "      <th>ENERGY_SUPPLIER_BRITISH_GAS</th>\n",
       "      <td>0.006749</td>\n",
       "      <td>7408</td>\n",
       "    </tr>\n",
       "    <tr>\n",
       "      <th>ENERGY_SUPPLIER_OTHER</th>\n",
       "      <td>0.006971</td>\n",
       "      <td>4734</td>\n",
       "    </tr>\n",
       "    <tr>\n",
       "      <th>ENERGY_SUPPLIER_TELECOM_PLUS</th>\n",
       "      <td>0.006984</td>\n",
       "      <td>1575</td>\n",
       "    </tr>\n",
       "    <tr>\n",
       "      <th>ENERGY_SUPPLIER_SCOTTISH_POWER</th>\n",
       "      <td>0.007668</td>\n",
       "      <td>2869</td>\n",
       "    </tr>\n",
       "    <tr>\n",
       "      <th>ENERGY_SUPPLIER_EDF_ENERGY</th>\n",
       "      <td>0.008075</td>\n",
       "      <td>3096</td>\n",
       "    </tr>\n",
       "    <tr>\n",
       "      <th>ENERGY_SUPPLIER_SHELL_ENERGY</th>\n",
       "      <td>0.008142</td>\n",
       "      <td>1351</td>\n",
       "    </tr>\n",
       "    <tr>\n",
       "      <th>ENERGY_SUPPLIER_OVO_ENERGY</th>\n",
       "      <td>0.008705</td>\n",
       "      <td>3561</td>\n",
       "    </tr>\n",
       "    <tr>\n",
       "      <th>ENERGY_SUPPLIER_UTILITA</th>\n",
       "      <td>0.009198</td>\n",
       "      <td>761</td>\n",
       "    </tr>\n",
       "    <tr>\n",
       "      <th>ENERGY_SUPPLIER_BULB</th>\n",
       "      <td>0.011753</td>\n",
       "      <td>1957</td>\n",
       "    </tr>\n",
       "    <tr>\n",
       "      <th>ENERGY_SUPPLIER_NONE</th>\n",
       "      <td>0.041179</td>\n",
       "      <td>2137</td>\n",
       "    </tr>\n",
       "  </tbody>\n",
       "</table>\n",
       "</div>"
      ],
      "text/plain": [
       "                                    mean  count\n",
       "gas_supplier                                   \n",
       "ENERGY_SUPPLIER_OCTOPUS         0.003183   3142\n",
       "ENERGY_SUPPLIER_EON             0.004977   4621\n",
       "ENERGY_SUPPLIER_NPOWER          0.005556    180\n",
       "ENERGY_SUPPLIER_BRITISH_GAS     0.006749   7408\n",
       "ENERGY_SUPPLIER_OTHER           0.006971   4734\n",
       "ENERGY_SUPPLIER_TELECOM_PLUS    0.006984   1575\n",
       "ENERGY_SUPPLIER_SCOTTISH_POWER  0.007668   2869\n",
       "ENERGY_SUPPLIER_EDF_ENERGY      0.008075   3096\n",
       "ENERGY_SUPPLIER_SHELL_ENERGY    0.008142   1351\n",
       "ENERGY_SUPPLIER_OVO_ENERGY      0.008705   3561\n",
       "ENERGY_SUPPLIER_UTILITA         0.009198    761\n",
       "ENERGY_SUPPLIER_BULB            0.011753   1957\n",
       "ENERGY_SUPPLIER_NONE            0.041179   2137"
      ]
     },
     "execution_count": 112,
     "metadata": {},
     "output_type": "execute_result"
    }
   ],
   "source": [
    "raw_df.groupby('gas_supplier')['converted'].agg(['mean', 'count']).sort_values('mean')"
   ]
  },
  {
   "cell_type": "code",
   "execution_count": 113,
   "id": "isolated-network",
   "metadata": {},
   "outputs": [],
   "source": [
    "high_scores, mid_scores = split_by_thresholds(raw_df, 'gas_supplier', .009, .0065)\n",
    "\n",
    "\n",
    "raw_df['gas_score'] = raw_df.gas_supplier.apply(lambda x: 2 if x in high_scores else 0)\n",
    "raw_df['gas_score'] += raw_df.gas_supplier.isin(mid_scores)"
   ]
  },
  {
   "cell_type": "code",
   "execution_count": 114,
   "id": "numerical-information",
   "metadata": {},
   "outputs": [],
   "source": [
    "def objective(parameters, return_df=False):\n",
    "    recommendation_threshold, year_threshold, f_y, ya_na = parameters\n",
    "    raw_df['supply_score'] = raw_df.elec_supplier_start_date.isna().astype(int) * ya_na\n",
    "    raw_df['supply_score'] += ((raw_df.prospect_creation_date.dt.date - raw_df.elec_supplier_start_date.dt.date).dt.days >= 365 * year_threshold) * f_y\n",
    "    raw_df['switch_score_test'] = raw_df['elec_score'] + raw_df['gas_score'] + raw_df['supply_score']\n",
    "    raw_df['recommended'] = raw_df['switch_score_test']  >= recommendation_threshold\n",
    "    cost_at_threhold = recommendation_regret(raw_df, cost)\n",
    "    return raw_df if return_df else cost_at_threhold\n"
   ]
  },
  {
   "cell_type": "code",
   "execution_count": 115,
   "id": "spectacular-intranet",
   "metadata": {},
   "outputs": [
    {
     "data": {
      "text/html": [
       "<div>\n",
       "<style scoped>\n",
       "    .dataframe tbody tr th:only-of-type {\n",
       "        vertical-align: middle;\n",
       "    }\n",
       "\n",
       "    .dataframe tbody tr th {\n",
       "        vertical-align: top;\n",
       "    }\n",
       "\n",
       "    .dataframe thead th {\n",
       "        text-align: right;\n",
       "    }\n",
       "</style>\n",
       "<table border=\"1\" class=\"dataframe\">\n",
       "  <thead>\n",
       "    <tr style=\"text-align: right;\">\n",
       "      <th></th>\n",
       "      <th>0</th>\n",
       "      <th>1</th>\n",
       "    </tr>\n",
       "  </thead>\n",
       "  <tbody>\n",
       "    <tr>\n",
       "      <th>7</th>\n",
       "      <td>(3, 1, 2, 1)</td>\n",
       "      <td>-1962.430012</td>\n",
       "    </tr>\n",
       "    <tr>\n",
       "      <th>3</th>\n",
       "      <td>(3, 0, 2, 1)</td>\n",
       "      <td>-1925.427533</td>\n",
       "    </tr>\n",
       "    <tr>\n",
       "      <th>15</th>\n",
       "      <td>(3, 3, 2, 1)</td>\n",
       "      <td>-1810.402100</td>\n",
       "    </tr>\n",
       "    <tr>\n",
       "      <th>5</th>\n",
       "      <td>(3, 1, 1, 1)</td>\n",
       "      <td>-1789.443535</td>\n",
       "    </tr>\n",
       "    <tr>\n",
       "      <th>11</th>\n",
       "      <td>(3, 2, 2, 1)</td>\n",
       "      <td>-1770.283423</td>\n",
       "    </tr>\n",
       "    <tr>\n",
       "      <th>1</th>\n",
       "      <td>(3, 0, 1, 1)</td>\n",
       "      <td>-1764.377641</td>\n",
       "    </tr>\n",
       "    <tr>\n",
       "      <th>19</th>\n",
       "      <td>(3, 4, 2, 1)</td>\n",
       "      <td>-1678.626963</td>\n",
       "    </tr>\n",
       "    <tr>\n",
       "      <th>13</th>\n",
       "      <td>(3, 3, 1, 1)</td>\n",
       "      <td>-1674.668916</td>\n",
       "    </tr>\n",
       "    <tr>\n",
       "      <th>9</th>\n",
       "      <td>(3, 2, 1, 1)</td>\n",
       "      <td>-1618.977249</td>\n",
       "    </tr>\n",
       "    <tr>\n",
       "      <th>17</th>\n",
       "      <td>(3, 4, 1, 1)</td>\n",
       "      <td>-1583.538483</td>\n",
       "    </tr>\n",
       "  </tbody>\n",
       "</table>\n",
       "</div>"
      ],
      "text/plain": [
       "               0            1\n",
       "7   (3, 1, 2, 1) -1962.430012\n",
       "3   (3, 0, 2, 1) -1925.427533\n",
       "15  (3, 3, 2, 1) -1810.402100\n",
       "5   (3, 1, 1, 1) -1789.443535\n",
       "11  (3, 2, 2, 1) -1770.283423\n",
       "1   (3, 0, 1, 1) -1764.377641\n",
       "19  (3, 4, 2, 1) -1678.626963\n",
       "13  (3, 3, 1, 1) -1674.668916\n",
       "9   (3, 2, 1, 1) -1618.977249\n",
       "17  (3, 4, 1, 1) -1583.538483"
      ]
     },
     "execution_count": 115,
     "metadata": {},
     "output_type": "execute_result"
    }
   ],
   "source": [
    "results = [(p, objective(p)) for p in itertools.product((3, 4, 5), #Scoring threshold\n",
    "                                                        (0, 1, 2, 3, 4), #Years of supply\n",
    "                                                        (1, 2), #Score for long supply\n",
    "                                                        (0, 1))] #Score for missing supply\n",
    "pd.DataFrame(results).sort_values(1).head(10)\n"
   ]
  },
  {
   "cell_type": "markdown",
   "id": "assisted-transcript",
   "metadata": {},
   "source": [
    "The (3, 1, 2, 1) ruleset translates into the following rules:\n",
    "\n",
    "- If the supplier date is 1 year or more in the past, we assign 2 points\n",
    "- If the supplier date is absent we assign 1 point (as with the current system)\n",
    "- We set the recommendation threshold at 3 (current system is 4)\n"
   ]
  },
  {
   "cell_type": "code",
   "execution_count": 116,
   "id": "absent-liquid",
   "metadata": {},
   "outputs": [],
   "source": [
    "df = objective((3, 1, 2, 1), return_df=True).copy()"
   ]
  },
  {
   "cell_type": "code",
   "execution_count": 117,
   "id": "numerous-glasgow",
   "metadata": {},
   "outputs": [
    {
     "data": {
      "text/plain": [
       "gas_score\n",
       "0    0.008920\n",
       "1    0.007472\n",
       "2    0.024305\n",
       "Name: converted, dtype: float64"
      ]
     },
     "execution_count": 117,
     "metadata": {},
     "output_type": "execute_result"
    }
   ],
   "source": [
    "df.groupby('gas_score')['converted'].mean()"
   ]
  },
  {
   "cell_type": "code",
   "execution_count": 118,
   "id": "cutting-billion",
   "metadata": {},
   "outputs": [
    {
     "data": {
      "text/plain": [
       "elec_score\n",
       "0    0.008500\n",
       "1    0.008326\n",
       "2    0.016668\n",
       "Name: converted, dtype: float64"
      ]
     },
     "execution_count": 118,
     "metadata": {},
     "output_type": "execute_result"
    }
   ],
   "source": [
    "df.groupby('elec_score')['converted'].mean()"
   ]
  },
  {
   "cell_type": "code",
   "execution_count": 119,
   "id": "talented-despite",
   "metadata": {},
   "outputs": [
    {
     "data": {
      "text/plain": [
       "supply_score\n",
       "0    0.008319\n",
       "1    0.009733\n",
       "2    0.008201\n",
       "Name: converted, dtype: float64"
      ]
     },
     "execution_count": 119,
     "metadata": {},
     "output_type": "execute_result"
    }
   ],
   "source": [
    "df.groupby('supply_score')['converted'].mean()"
   ]
  },
  {
   "cell_type": "code",
   "execution_count": 120,
   "id": "regulated-september",
   "metadata": {},
   "outputs": [
    {
     "data": {
      "text/plain": [
       "(-1962.430012101655, -1834.089692774143, -128.34031932751247)"
      ]
     },
     "execution_count": 120,
     "metadata": {},
     "output_type": "execute_result"
    }
   ],
   "source": [
    "SPLIT = .8\n",
    "t, v = split_train_valid(df, SPLIT)\n",
    "recommendation_regret(raw_df, cost), recommendation_regret(t, cost), recommendation_regret(v, cost)"
   ]
  },
  {
   "cell_type": "code",
   "execution_count": 121,
   "id": "listed-excess",
   "metadata": {},
   "outputs": [
    {
     "data": {
      "text/plain": [
       "(0.012118067214065505, 0.2785964912280702, 0.023225881939975428)"
      ]
     },
     "execution_count": 121,
     "metadata": {},
     "output_type": "execute_result"
    }
   ],
   "source": [
    "truth = df.converted\n",
    "pred = df.recommended\n",
    "precision_score(truth, pred), recall_score(truth, pred), f1_score(truth, pred)\n"
   ]
  },
  {
   "cell_type": "code",
   "execution_count": 122,
   "id": "clinical-garden",
   "metadata": {},
   "outputs": [
    {
     "data": {
      "text/plain": [
       "switch_score_test\n",
       "0    0.008304\n",
       "1    0.008759\n",
       "2    0.006344\n",
       "3    0.012615\n",
       "4    0.009256\n",
       "5    0.020156\n",
       "6    0.010115\n",
       "Name: converted, dtype: float64"
      ]
     },
     "execution_count": 122,
     "metadata": {},
     "output_type": "execute_result"
    }
   ],
   "source": [
    "df.groupby('switch_score_test')['converted'].mean()"
   ]
  },
  {
   "cell_type": "code",
   "execution_count": 123,
   "id": "closing-collar",
   "metadata": {},
   "outputs": [
    {
     "data": {
      "text/plain": [
       "recommended\n",
       "False    0.008401\n",
       "True     0.012118\n",
       "Name: converted, dtype: float64"
      ]
     },
     "execution_count": 123,
     "metadata": {},
     "output_type": "execute_result"
    }
   ],
   "source": [
    "df.groupby('recommended')['converted'].mean()"
   ]
  },
  {
   "cell_type": "code",
   "execution_count": 124,
   "id": "orange-retrieval",
   "metadata": {},
   "outputs": [
    {
     "data": {
      "text/plain": [
       "switch_score_test\n",
       "0    9.011429\n",
       "1    7.943456\n",
       "2    9.417308\n",
       "3    8.546269\n",
       "4    7.983465\n",
       "5    9.627368\n",
       "6    8.277273\n",
       "Name: customer_ltv, dtype: float64"
      ]
     },
     "execution_count": 124,
     "metadata": {},
     "output_type": "execute_result"
    }
   ],
   "source": [
    "df.groupby('switch_score_test')['customer_ltv'].mean()"
   ]
  },
  {
   "cell_type": "code",
   "execution_count": 125,
   "id": "minus-library",
   "metadata": {},
   "outputs": [
    {
     "data": {
      "text/plain": [
       "(0.21119369790424372, 0.18793148154150327, 0.301724953486172)"
      ]
     },
     "execution_count": 125,
     "metadata": {},
     "output_type": "execute_result"
    }
   ],
   "source": [
    "df.recommended.mean(), t.recommended.mean(), v.recommended.mean()"
   ]
  },
  {
   "cell_type": "code",
   "execution_count": 126,
   "id": "brutal-belief",
   "metadata": {},
   "outputs": [
    {
     "data": {
      "text/plain": [
       "elec_supplier\n",
       "ENERGY_SUPPLIER_EDF_ENERGY        0\n",
       "ENERGY_SUPPLIER_EON               0\n",
       "ENERGY_SUPPLIER_OCTOPUS           0\n",
       "ENERGY_SUPPLIER_TELECOM_PLUS      0\n",
       "ENERGY_SUPPLIER_BRITISH_GAS       1\n",
       "ENERGY_SUPPLIER_NPOWER            1\n",
       "ENERGY_SUPPLIER_OTHER             1\n",
       "ENERGY_SUPPLIER_SCOTTISH_POWER    1\n",
       "ENERGY_SUPPLIER_SHELL_ENERGY      1\n",
       "ENERGY_SUPPLIER_BULB              2\n",
       "ENERGY_SUPPLIER_NONE              2\n",
       "ENERGY_SUPPLIER_OVO_ENERGY        2\n",
       "ENERGY_SUPPLIER_SSE               2\n",
       "ENERGY_SUPPLIER_UNKNOWN           2\n",
       "ENERGY_SUPPLIER_UTILITA           2\n",
       "Name: elec_score, dtype: int64"
      ]
     },
     "execution_count": 126,
     "metadata": {},
     "output_type": "execute_result"
    }
   ],
   "source": [
    "df.groupby('elec_supplier')['elec_score'].mean().sort_values()"
   ]
  },
  {
   "cell_type": "code",
   "execution_count": 127,
   "id": "fitted-domain",
   "metadata": {},
   "outputs": [
    {
     "data": {
      "text/plain": [
       "gas_supplier\n",
       "ENERGY_SUPPLIER_EON               0\n",
       "ENERGY_SUPPLIER_NPOWER            0\n",
       "ENERGY_SUPPLIER_OCTOPUS           0\n",
       "ENERGY_SUPPLIER_TELECOM_PLUS      0\n",
       "ENERGY_SUPPLIER_BRITISH_GAS       1\n",
       "ENERGY_SUPPLIER_EDF_ENERGY        1\n",
       "ENERGY_SUPPLIER_OTHER             1\n",
       "ENERGY_SUPPLIER_OVO_ENERGY        1\n",
       "ENERGY_SUPPLIER_SCOTTISH_POWER    1\n",
       "ENERGY_SUPPLIER_SHELL_ENERGY      1\n",
       "ENERGY_SUPPLIER_BULB              2\n",
       "ENERGY_SUPPLIER_NONE              2\n",
       "ENERGY_SUPPLIER_UTILITA           2\n",
       "Name: gas_score, dtype: int64"
      ]
     },
     "execution_count": 127,
     "metadata": {},
     "output_type": "execute_result"
    }
   ],
   "source": [
    "df.groupby('gas_supplier')['gas_score'].mean().sort_values()"
   ]
  },
  {
   "cell_type": "code",
   "execution_count": null,
   "id": "violent-symbol",
   "metadata": {},
   "outputs": [],
   "source": []
  }
 ],
 "metadata": {
  "kernelspec": {
   "display_name": "Python 3",
   "language": "python",
   "name": "python3"
  },
  "language_info": {
   "codemirror_mode": {
    "name": "ipython",
    "version": 3
   },
   "file_extension": ".py",
   "mimetype": "text/x-python",
   "name": "python",
   "nbconvert_exporter": "python",
   "pygments_lexer": "ipython3",
   "version": "3.8.8"
  }
 },
 "nbformat": 4,
 "nbformat_minor": 5
}
