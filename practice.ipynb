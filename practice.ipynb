{
 "cells": [
  {
   "cell_type": "code",
   "execution_count": 199,
   "id": "experienced-special",
   "metadata": {},
   "outputs": [],
   "source": [
    "!pip3 install umap-learn --quiet"
   ]
  },
  {
   "cell_type": "code",
   "execution_count": 74,
   "id": "stone-transition",
   "metadata": {},
   "outputs": [],
   "source": [
    "import pandas as pd\n",
    "import numpy as np\n",
    "import matplotlib.pyplot as plt\n",
    "import seaborn as sns\n",
    "%matplotlib inline \n",
    "import os\n",
    "import datetime as dt\n",
    "import umap\n",
    "from sklearn.cluster import KMeans\n",
    "from scipy.spatial.distance import cdist\n",
    "from sklearn.ensemble import RandomForestClassifier,RandomForestRegressor\n",
    "from sklearn.linear_model import LogisticRegression\n",
    "from sklearn.inspection import permutation_importance\n",
    "from sklearn.model_selection import RandomizedSearchCV\n",
    "from sklearn.metrics import roc_auc_score,roc_curve,precision_recall_curve,f1_score,auc,plot_confusion_matrix,confusion_matrix,plot_roc_curve"
   ]
  },
  {
   "cell_type": "code",
   "execution_count": 198,
   "id": "royal-hormone",
   "metadata": {},
   "outputs": [],
   "source": [
    "def auc_score(model,X,y):\n",
    "    rf_probs=model.predict_proba(X)\n",
    "    rf_probs=rf_probs[:,1]\n",
    "    prediction=model.predict(X)\n",
    "    rf_precision,rf_recall,_=roc_auc_score(y,rf_probs)\n",
    "    rf_f1,rf_auc=f1_score(y,prediction),auc(rf_recall,rf_precision)\n",
    "    return rf_f1,rf_auc"
   ]
  },
  {
   "cell_type": "code",
   "execution_count": 41,
   "id": "incorrect-sharing",
   "metadata": {},
   "outputs": [],
   "source": [
    "df=pd.read_csv('model_df.csv').drop(['Unnamed: 0'],axis=1)"
   ]
  },
  {
   "cell_type": "code",
   "execution_count": 128,
   "id": "democratic-palace",
   "metadata": {},
   "outputs": [],
   "source": [
    "def auc_score(model,x,y):    \n",
    "    rf_probs=model.predict_proba(x)\n",
    "    rf_probs=rf_probs[:,1]\n",
    "    predict=model.predict(x)\n",
    "    rf_precision,rf_recall,_=precision_recall_curve(y,rf_probs)\n",
    "    rf_f1,rf_auc=f1_score(y,predict),auc(rf_recall,rf_precision)\n",
    "    return rf_f1,rf_auc\n",
    "\n",
    "def rmse(model,x,y):\n",
    "    rmse=np.sqrt(mean_squared_error(y,model.predict(x)))\n",
    "    return rmse                        "
   ]
  },
  {
   "cell_type": "code",
   "execution_count": 85,
   "id": "pleased-supplement",
   "metadata": {},
   "outputs": [],
   "source": [
    "def check_parameters(parameters,values,fixed={},features=None):\n",
    "    scores=[]\n",
    "    f1=[]\n",
    "    auc=[]\n",
    "    for p in values:\n",
    "        print(f'Fitting with {parameters}={p}')\n",
    "        fts=X_train.columns if features is None else features\n",
    "        kws={parameters:p,**fixed}\n",
    "        model=RandomForestClassifier(**kws)\n",
    "        %time model.fit(X_train[fts],y_train)\n",
    "        s=roc_auc_score(y_valid,model.predict_proba(X_valid[fts])[:,1])\n",
    "        rf_f1,rf_auc=auc_score(model,X_valid[fts],y_valid)\n",
    "        \n",
    "        print('ROC AUC',s)\n",
    "        print('F1',rf_f1)\n",
    "        print('AUC',rf_auc)\n",
    "        scores.append(s)\n",
    "        f1.append(rf_f1)\n",
    "        auc.append(rf_auc)\n",
    "    plt.title(parameters)\n",
    "    plt.plot(values,scores)"
   ]
  },
  {
   "cell_type": "code",
   "execution_count": 81,
   "id": "adapted-classification",
   "metadata": {},
   "outputs": [],
   "source": [
    "def split_df(df,ln_train,ln_valid):\n",
    "    df=df.sample(frac=1.).reset_index(drop=True)\n",
    "    val=df.iloc[-ln_valid:].reset_index(drop=True)\n",
    "    train=df.iloc[:ln_valid].reset_index(drop=True)\n",
    "    has_yes=train[train.has_gathered_two_customers==1]\n",
    "    has_not_yes=train[train.has_gathered_two_customers==0].head(ln_train-len(has_yes))\n",
    "    tra=pd.concat([has_yes,has_not_yes],axis=0).reset_index(drop=True)\n",
    "    return tra,val"
   ]
  },
  {
   "cell_type": "code",
   "execution_count": 47,
   "id": "interstate-bathroom",
   "metadata": {},
   "outputs": [],
   "source": [
    "df=pd.get_dummies(df,columns=['initial_position_type'])"
   ]
  },
  {
   "cell_type": "code",
   "execution_count": 50,
   "id": "naughty-explanation",
   "metadata": {},
   "outputs": [],
   "source": [
    "model_df=df.drop(['partner_position_id'],axis=1)"
   ]
  },
  {
   "cell_type": "code",
   "execution_count": 68,
   "id": "adverse-boxing",
   "metadata": {},
   "outputs": [],
   "source": [
    "train,valid=split_df(model_df,500,500)"
   ]
  },
  {
   "cell_type": "code",
   "execution_count": 69,
   "id": "initial-vancouver",
   "metadata": {},
   "outputs": [],
   "source": [
    "X_train,y_train=train.drop(['has_gathered_two_customers'],axis=1),train['has_gathered_two_customers']\n",
    "X_valid,y_valid=valid.drop(['has_gathered_two_customers'],axis=1),valid['has_gathered_two_customers']"
   ]
  },
  {
   "cell_type": "code",
   "execution_count": 70,
   "id": "declared-robertson",
   "metadata": {},
   "outputs": [],
   "source": [
    "X_valid,y_valid=valid.drop(['has_gathered_two_customers'],axis=1),valid['has_gathered_two_customers']"
   ]
  },
  {
   "cell_type": "code",
   "execution_count": 77,
   "id": "amino-front",
   "metadata": {},
   "outputs": [],
   "source": [
    "d={'n_estimators':1000,'n_jobs':-1}\n",
    "p='min_samples_leaf'\n",
    "v=[1,3,5,10,25,40,50]"
   ]
  },
  {
   "cell_type": "code",
   "execution_count": 86,
   "id": "sensitive-ecology",
   "metadata": {},
   "outputs": [
    {
     "name": "stdout",
     "output_type": "stream",
     "text": [
      "Fitting with min_samples_leaf=1\n",
      "CPU times: user 3.61 s, sys: 1.71 s, total: 5.31 s\n",
      "Wall time: 3.41 s\n",
      "ROC AUC 0.925596553247901\n",
      "F1 0.5785123966942148\n",
      "AUC 0.5499283239403472\n",
      "Fitting with min_samples_leaf=3\n",
      "CPU times: user 3.23 s, sys: 1.68 s, total: 4.91 s\n",
      "Wall time: 3.19 s\n",
      "ROC AUC 0.9302732361172484\n",
      "F1 0.5964912280701755\n",
      "AUC 0.5939268666220808\n",
      "Fitting with min_samples_leaf=5\n",
      "CPU times: user 3.12 s, sys: 1.46 s, total: 4.58 s\n",
      "Wall time: 3.27 s\n",
      "ROC AUC 0.9313779643541023\n",
      "F1 0.5471698113207547\n",
      "AUC 0.6021019437962616\n",
      "Fitting with min_samples_leaf=10\n",
      "CPU times: user 3.12 s, sys: 1.47 s, total: 4.58 s\n",
      "Wall time: 3.26 s\n",
      "ROC AUC 0.9299418176461923\n",
      "F1 0.5\n",
      "AUC 0.6081523938002268\n",
      "Fitting with min_samples_leaf=25\n",
      "CPU times: user 3 s, sys: 1.41 s, total: 4.41 s\n",
      "Wall time: 3.12 s\n",
      "ROC AUC 0.9219325379290028\n",
      "F1 0.38095238095238093\n",
      "AUC 0.5713868760821055\n",
      "Fitting with min_samples_leaf=40\n",
      "CPU times: user 2.89 s, sys: 1.22 s, total: 4.11 s\n",
      "Wall time: 3.19 s\n",
      "ROC AUC 0.9101303579319487\n",
      "F1 0.0\n",
      "AUC 0.5677283245536127\n",
      "Fitting with min_samples_leaf=50\n",
      "CPU times: user 2.83 s, sys: 1.26 s, total: 4.09 s\n",
      "Wall time: 2.84 s\n",
      "ROC AUC 0.9122109294446898\n",
      "F1 0.0\n",
      "AUC 0.5933445423689989\n"
     ]
    },
    {
     "data": {
      "image/png": "[encoded data removed]",
      "text/plain": [
       "<Figure size 432x288 with 1 Axes>"
      ]
     },
     "metadata": {
      "needs_background": "light"
     },
     "output_type": "display_data"
    }
   ],
   "source": [
    "check_parameters(p,v,d)"
   ]
  },
  {
   "cell_type": "code",
   "execution_count": 87,
   "id": "interested-korea",
   "metadata": {},
   "outputs": [],
   "source": [
    "d={'n_estimators':1000,'n_jobs':-1,'min_samples_leaf':10,'max_features':'sqrt',\n",
    "   'class_weight':'balanced', 'random_state':428}"
   ]
  },
  {
   "cell_type": "code",
   "execution_count": 88,
   "id": "bound-sauce",
   "metadata": {},
   "outputs": [
    {
     "name": "stdout",
     "output_type": "stream",
     "text": [
      "CPU times: user 3.14 s, sys: 1.48 s, total: 4.61 s\n",
      "Wall time: 3.61 s\n"
     ]
    },
    {
     "data": {
      "text/plain": [
       "RandomForestClassifier(bootstrap=True, ccp_alpha=0.0, class_weight='balanced',\n",
       "                       criterion='gini', max_depth=None, max_features='sqrt',\n",
       "                       max_leaf_nodes=None, max_samples=None,\n",
       "                       min_impurity_decrease=0.0, min_impurity_split=None,\n",
       "                       min_samples_leaf=10, min_samples_split=2,\n",
       "                       min_weight_fraction_leaf=0.0, n_estimators=1000,\n",
       "                       n_jobs=-1, oob_score=False, random_state=428, verbose=0,\n",
       "                       warm_start=False)"
      ]
     },
     "execution_count": 88,
     "metadata": {},
     "output_type": "execute_result"
    }
   ],
   "source": [
    "model=RandomForestClassifier(**d)\n",
    "%time model.fit(X_train,y_train)"
   ]
  },
  {
   "cell_type": "code",
   "execution_count": 89,
   "id": "black-ministry",
   "metadata": {},
   "outputs": [],
   "source": [
    "def print_report(model,train,valid,target_label,feats=None):\n",
    "    X_train,y_train=train.drop([target_label],axis=1),train[target_label].values\n",
    "    X_valid,y_valid=valid.drop([target_label],axis=1),valid[target_label].values\n",
    "    \n",
    "    if feats is not None:\n",
    "        X_train,X_valid = X_train[feats],X_valid[feats]\n",
    "        \n",
    "    train_pred,val_pred=model.predict(X_train),model.predict(X_valid)\n",
    "    roc_auc_train=roc_auc_score(y_train,model.predict_proba(X_train)[:,1])\n",
    "    roc_auc_val = roc_auc_score(y_valid,model.predict_proba(X_valid)[:,1])\n",
    "    train_f1,train_auc=auc_score(model,X_train,y_train)\n",
    "    val_f1,val_auc=auc_score(model,X_valid,y_valid)\n",
    "        \n",
    "    res =f\"\"\"\n",
    "    Training ROC_AUC :{roc_auc_train}\n",
    "    Training F1 : {train_f1}\n",
    "    Training AUC: {train_auc}\n",
    "\n",
    "    Validation ROC_AUC: {roc_auc_val}\n",
    "    Validation F1: {val_f1}\n",
    "    Validation AUC: {val_auc}\n",
    "\n",
    "    \"\"\"\n",
    "    print(res)\n",
    "\n",
    "    plot_roc_curve(model,X_valid,y_valid)\n",
    "    plot_confusion_matrix(model,X_valid,y_valid)\n",
    "    tn,fp,fn,tp=confusion_matrix(y_valid,val_pred).ravel()\n",
    "    recall = tp/(tp+fn)\n",
    "    precision = tp/(tp+fp)\n",
    "\n",
    "    print('True Negatives:',tn)\n",
    "    print('False Positives:',fp)\n",
    "    print('False Negatives',fn)\n",
    "    print('True Positives:',tp)\n",
    "    print('Recall:',recall)\n",
    "    print('Precision:',precision)\n"
   ]
  },
  {
   "cell_type": "code",
   "execution_count": 91,
   "id": "floral-restaurant",
   "metadata": {},
   "outputs": [
    {
     "name": "stdout",
     "output_type": "stream",
     "text": [
      "\n",
      "    Training ROC_AUC :0.9738008470402837\n",
      "    Training F1 : 0.7513812154696132\n",
      "    Training AUC: 0.8292794805701779\n",
      "\n",
      "    Validation ROC_AUC: 0.9299049933716307\n",
      "    Validation F1: 0.6043956043956044\n",
      "    Validation AUC: 0.605841793040063\n",
      "\n",
      "    \n",
      "True Negatives: 373\n",
      "False Positives: 65\n",
      "False Negatives 7\n",
      "True Positives: 55\n",
      "Recall: 0.8870967741935484\n",
      "Precision: 0.4583333333333333\n"
     ]
    },
    {
     "data": {
      "image/png": "[encoded data removed]",
      "text/plain": [
       "<Figure size 432x288 with 1 Axes>"
      ]
     },
     "metadata": {
      "needs_background": "light"
     },
     "output_type": "display_data"
    },
    {
     "data": {
      "image/png": "[encoded data removed]",
      "text/plain": [
       "<Figure size 432x288 with 2 Axes>"
      ]
     },
     "metadata": {
      "needs_background": "light"
     },
     "output_type": "display_data"
    }
   ],
   "source": [
    "print_report(model,train,valid,'has_gathered_two_customers')"
   ]
  },
  {
   "cell_type": "code",
   "execution_count": 110,
   "id": "offensive-trout",
   "metadata": {},
   "outputs": [],
   "source": [
    "perm=permutation_importance(model,X_train,y_train,n_repeats=5,n_jobs=-1)\n",
    "perm=pd.DataFrame({'importance':perm.importances_mean},index=X_train.columns)\n",
    "perm.sort_values(by=['importance'],inplace=True)"
   ]
  },
  {
   "cell_type": "code",
   "execution_count": null,
   "id": "mechanical-librarian",
   "metadata": {},
   "outputs": [],
   "source": []
  },
  {
   "cell_type": "code",
   "execution_count": 161,
   "id": "executed-baking",
   "metadata": {},
   "outputs": [
    {
     "name": "stdout",
     "output_type": "stream",
     "text": [
      "{'n_estimators': [200, 400, 600, 800, 1000, 1200, 1400, 1600, 1800, 2000], 'max_features': ['auto', 'sqrt'], 'max_depth': [10, 20, 30, 40, 50, 60, 70, 80, 90, 100, 110, None], 'min_samples_split': [2, 5, 10], 'min_samples_leaf': [1, 2, 4], 'bootstrap': [True, False]}\n"
     ]
    }
   ],
   "source": [
    "from sklearn.model_selection import RandomizedSearchCV\n",
    "n_estimators = [int(x) for x in np.linspace(start = 200, stop = 2000, num = 10)]\n",
    "max_features = ['auto', 'sqrt']\n",
    "max_depth = [int(x) for x in np.linspace(10, 110, num = 11)]\n",
    "max_depth.append(None)\n",
    "min_samples_split = [2, 5, 10]\n",
    "min_samples_leaf = [1, 2, 4]\n",
    "bootstrap = [True, False]\n",
    "random_grid = {'n_estimators': n_estimators,\n",
    "               'max_features': max_features,\n",
    "               'max_depth': max_depth,\n",
    "               'min_samples_split': min_samples_split,\n",
    "               'min_samples_leaf': min_samples_leaf,\n",
    "               'bootstrap': bootstrap}"
   ]
  },
  {
   "cell_type": "code",
   "execution_count": null,
   "id": "rental-issue",
   "metadata": {},
   "outputs": [],
   "source": [
    "rf = RandomForestRegressor()\n",
    "rf_random = RandomizedSearchCV(estimator = rf, param_distributions = random_grid, n_iter = 100, cv = 3, verbose=2,\n",
    "                               random_state=42, n_jobs = -1)\n",
    "rf_random.fit(train_features, train_labels)"
   ]
  },
  {
   "cell_type": "code",
   "execution_count": 182,
   "id": "wrong-vulnerability",
   "metadata": {},
   "outputs": [],
   "source": [
    "def evaluate(model,X,y):\n",
    "    prediction=model.predict(X_valid)\n",
    "    rmse_valid=rmse(model,X_valid,y_valid)\n",
    "    rmse_train=rmse(model,X_train,y_train)\n",
    "    print('RMSE Valid',rmse_valid)\n",
    "    print('RMSE Train',rmse_train)\n",
    "    return rmse_valid"
   ]
  },
  {
   "cell_type": "code",
   "execution_count": 168,
   "id": "going-fleece",
   "metadata": {},
   "outputs": [],
   "source": [
    "best_random=rf_random.best_estimator_\n",
    "evaluate(best_random,X_valid,y_valid)"
   ]
  },
  {
   "cell_type": "code",
   "execution_count": 200,
   "id": "happy-shock",
   "metadata": {},
   "outputs": [],
   "source": [
    "from sklearn.cluster import KMeans\n",
    "import umap\n",
    "from scipy.spatial.distance import cdist"
   ]
  },
  {
   "cell_type": "code",
   "execution_count": null,
   "id": "realistic-truth",
   "metadata": {},
   "outputs": [],
   "source": [
    "import umap\n",
    "umap=umap.UMAP()\n",
    "umap=umap.fit(train)\n",
    "umap_embedding=umap.transform(train)\n",
    "\n",
    "distortions=[]\n",
    "K=range(2,30)\n",
    "for k in tqdm(K):\n",
    "    k_means=KMeans(n_clusters=k,random_state=42).fit(umap_embedding)\n",
    "    k_means.fit(umap_embedding)\n",
    "    distortions.append(sum(np.min(cdist(umap_embedding,k_means.cluster_centers_,'euclidean'),axis=1))/train.shape[0])\n",
    "\n",
    "x_line=[K[0],K[-1]]\n",
    "y_line=[distortions[0],distortions[-1]]\n",
    "plt.plot(K,distortions,'b-')\n",
    "plt.plot(x_line,y_line,'r')\n",
    "plt.xlabel('k')\n",
    "plt.ylabel('Distortion')\n",
    "plt.title('Elbow Curve of Optimal k')\n",
    "\n",
    "k=3\n",
    "kmeans=KMeans(n_clusters=k,random_state=42)\n",
    "y_umap_pred=kmeans.fit_predict(umap_embedding)\n",
    "plt.figure(figsize=(8,6))\n",
    "k=3\n",
    "sns.scatterplot(umap_embedding[:,0],umap_embedding[:,1],\n",
    "              palette=sns.hls_palette(k,l=.4,s=.9),hue=y_umap_pred).set_title('')\n",
    "\n"
   ]
  },
  {
   "cell_type": "code",
   "execution_count": null,
   "id": "signal-village",
   "metadata": {},
   "outputs": [],
   "source": []
  },
  {
   "cell_type": "code",
   "execution_count": null,
   "id": "beautiful-updating",
   "metadata": {},
   "outputs": [],
   "source": []
  },
  {
   "cell_type": "code",
   "execution_count": null,
   "id": "sensitive-century",
   "metadata": {},
   "outputs": [],
   "source": []
  },
  {
   "cell_type": "code",
   "execution_count": null,
   "id": "collectible-documentary",
   "metadata": {},
   "outputs": [],
   "source": []
  },
  {
   "cell_type": "code",
   "execution_count": null,
   "id": "secondary-subdivision",
   "metadata": {},
   "outputs": [],
   "source": []
  },
  {
   "cell_type": "code",
   "execution_count": null,
   "id": "dressed-advance",
   "metadata": {},
   "outputs": [],
   "source": []
  }
 ],
 "metadata": {
  "kernelspec": {
   "display_name": "Python 3",
   "language": "python",
   "name": "python3"
  },
  "language_info": {
   "codemirror_mode": {
    "name": "ipython",
    "version": 3
   },
   "file_extension": ".py",
   "mimetype": "text/x-python",
   "name": "python",
   "nbconvert_exporter": "python",
   "pygments_lexer": "ipython3",
   "version": "3.8.8"
  }
 },
 "nbformat": 4,
 "nbformat_minor": 5
}
