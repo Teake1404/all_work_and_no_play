{
 "cells": [
  {
   "cell_type": "code",
   "execution_count": null,
   "id": "australian-width",
   "metadata": {},
   "outputs": [],
   "source": [
    "# !pip install imbalanced_learn --quiet\n",
    "# After installation restart the kernel as it will complaint "
   ]
  },
  {
   "cell_type": "code",
   "execution_count": null,
   "id": "golden-packing",
   "metadata": {},
   "outputs": [],
   "source": [
    "from utils.shuqing_all import *\n",
    "import pandas as pd\n",
    "import numpy as np\n",
    "import seaborn as sns\n",
    "import matplotlib.pyplot as plt \n",
    "%matplotlib inline\n",
    "plt.style.use('fivethirtyeight')\n",
    "five_thirty_eight=[\n",
    "   \"#30a2da\",\n",
    "    \"#fc4f30\",\n",
    "    \"#e5ae38\",\n",
    "    \"#6d904f\",\n",
    "    \"#8b8b8b\",      \n",
    "]\n",
    "import os\n",
    "!pip install haversine -qq\n",
    "from haversine import haversine\n",
    "from sklearn.preprocessing import LabelEncoder\n",
    "pd.set_option('display.max_columns', 500)\n",
    "from sklearn.neighbors import KNeighborsClassifier\n",
    "from sklearn.metrics import confusion_matrix,accuracy_score\n",
    "from sklearn.model_selection import train_test_split\n",
    "from sklearn.metrics import confusion_matrix,accuracy_score"
   ]
  },
  {
   "cell_type": "code",
   "execution_count": null,
   "id": "irish-custody",
   "metadata": {},
   "outputs": [],
   "source": [
    "PROJECT_ID='uw-data-warehouse-prod'"
   ]
  },
  {
   "cell_type": "code",
   "execution_count": null,
   "id": "entitled-cornwall",
   "metadata": {},
   "outputs": [],
   "source": [
    "### ORIGINAL DATA COMING FROM https://www.freemaptools.com/download/outcode-postcodes/postcode-outcodes.csv\n",
    "\n",
    "outcodes = pd.read_csv('postcode-outcodes.csv').loc[:, 'postcode':]\n",
    "outcodes = outcodes.loc[outcodes.latitude != 0].reset_index(drop=True)"
   ]
  },
  {
   "cell_type": "code",
   "execution_count": null,
   "id": "enclosed-hunter",
   "metadata": {},
   "outputs": [],
   "source": [
    "latlongs=outcodes.set_index('postcode').values"
   ]
  },
  {
   "cell_type": "code",
   "execution_count": null,
   "id": "radical-throat",
   "metadata": {},
   "outputs": [],
   "source": [
    "%%time\n",
    "distances =[[haversine(p,q) for q in latlongs] for p in latlongs]"
   ]
  },
  {
   "cell_type": "code",
   "execution_count": null,
   "id": "indoor-ethnic",
   "metadata": {},
   "outputs": [],
   "source": [
    "distance_df=pd.DataFrame(distances,index=outcodes.postcode.tolist(),columns=outcodes.postcode.tolist())\n",
    "unstacked_dis=distance_df.unstack().reset_index()\n",
    "unstacked_dis.columns=['from', 'to', 'distance_km']"
   ]
  },
  {
   "cell_type": "code",
   "execution_count": null,
   "id": "banner-spanish",
   "metadata": {},
   "outputs": [],
   "source": [
    "p_cohort = f\"\"\"SELECT partner_position_id \n",
    "FROM `uw-partner-prod.metrics_analysis.partner_position_master_data_current`\n",
    "WHERE is_live AND customers_gathered_last_1y > 0\n",
    "\"\"\"\n",
    "partner_postcodes_q = \"\"\"SELECT partner_position_id\n",
    "        ,UPPER(partner.address.post_code) AS postcode, \n",
    "  FROM `uw-partner-prod.position_v1.partner_position_ownership_changed_latest` owner\n",
    "  LEFT JOIN `uw-partner-prod.partner_v1.partner_details_changed_latest` details\n",
    "  ON owner.owner_id = details.partner_id\n",
    "  ,UNNEST (partner.address.lines) AS address_lines\n",
    "  GROUP BY 1, 2\"\"\"\n",
    "bb_q=\"\"\"\n",
    "SELECT * FROM `uw-data-models-prod.marketing_dataform_models.eero_source`\n",
    "\"\"\"\n",
    "marketing_pre=\"\"\"\n",
    "SELECT\n",
    "customer.custaccountno  AS customer_cust_account_number,\n",
    "(\n",
    "CASE WHEN customer.custnomarketing is null and customer.custenddate is null  THEN 'Yes' \n",
    "ELSE 'No' \n",
    "END\n",
    ") AS customer_cust_is_marketing_subscribed\n",
    "FROM  `uw-data-models-prod.marketing_dataform_models.customer_model` AS customer\n",
    "GROUP BY\n",
    "    1,\n",
    "    2\n",
    "ORDER BY\n",
    "    1  \n",
    "\"\"\"\n",
    "rfm_score=\"\"\"\n",
    "SELECT * FROM `uw-data-models-prod.partner_dataform_models_position.rfm_score`\"\"\"\n",
    "\n",
    "title_df=\"\"\"\n",
    "\n",
    "SELECT * FROM `uw-data-models-prod.partner_dataform_models_position.position` \"\"\"\n",
    "\n"
   ]
  },
  {
   "cell_type": "code",
   "execution_count": null,
   "id": "angry-austin",
   "metadata": {},
   "outputs": [],
   "source": [
    "bb=download_data(project_id=PROJECT_ID,query=bb_q) "
   ]
  },
  {
   "cell_type": "code",
   "execution_count": null,
   "id": "curious-resort",
   "metadata": {},
   "outputs": [],
   "source": [
    "partner_cohort=download_data(project_id=PROJECT_ID,query=p_cohort) "
   ]
  },
  {
   "cell_type": "code",
   "execution_count": null,
   "id": "regular-bible",
   "metadata": {},
   "outputs": [],
   "source": [
    "partner_postcodes=download_data(project_id=PROJECT_ID,query=partner_postcodes_q)"
   ]
  },
  {
   "cell_type": "code",
   "execution_count": null,
   "id": "charitable-delhi",
   "metadata": {},
   "outputs": [],
   "source": [
    "bq_rfm=download_data(project_id=PROJECT_ID,query=rfm_score)"
   ]
  },
  {
   "cell_type": "code",
   "execution_count": null,
   "id": "demographic-fever",
   "metadata": {},
   "outputs": [],
   "source": [
    "title_df=download_data(project_id=PROJECT_ID,query=title_df)"
   ]
  },
  {
   "cell_type": "code",
   "execution_count": null,
   "id": "settled-claim",
   "metadata": {},
   "outputs": [],
   "source": [
    "group_1 = ['D']\n",
    "group_2 = ['QD', 'TL', 'STL']\n",
    "group_3 = ['GL', 'SGL', 'NNL', 'NGL']\n",
    "\n",
    "group_map = {'D': 'group_1'}\n",
    "for t in group_2: group_map[t] = 'group_2'\n",
    "for t in group_3: group_map[t] = 'group_3'\n",
    "title_df['title_group']=title_df.title.map(group_map).astype('category')\n",
    "partners_title=title_df[['partner_position_id','title_group']].copy()\n",
    "bq_rfm=bq_rfm.merge(partners_title,left_on=['partner_position_id'],right_on=['partner_position_id'],how='left')\n"
   ]
  },
  {
   "cell_type": "code",
   "execution_count": null,
   "id": "generous-skill",
   "metadata": {},
   "outputs": [],
   "source": [
    "caci_q= \"\"\"\n",
    "SELECT \n",
    "custaccountno,\n",
    "REGEXP_EXTRACT(UPPER(custpostcode), '^[^ ]*') as outcode,\n",
    "age_1,\n",
    "\n",
    "lukcat_agebandn,\n",
    "lukp_a2_age1,\n",
    "lukp_a2_age2,\n",
    "lukp_a2_age3,\n",
    "lukp_a2_age4,\n",
    "lukp_a2_age5,\n",
    "lukcat_incomeband2,\n",
    "lukp_a2_income1,\n",
    "lukp_a2_income2,\n",
    "lukp_a2_income3,\n",
    "lukp_a2_income4,\n",
    "lukp_a2_income5,\n",
    "lukp_a2_income6a,\n",
    "lukp_a2_income6b,\n",
    "lukp_a2_income6c,\n",
    "lukp_a2_hhd1,\n",
    "lukp_a2_hhd2,\n",
    "lukp_a2_hhd5,\n",
    "lukp_a2_hhd6,\n",
    "lukcat_children,\n",
    "lukcat_a2_childage,\n",
    "lukcat_hhdsize,\n",
    "lukcat_beds,\n",
    "lukp_occd2,\n",
    "lukp_occd3,\n",
    "lukp_occd5,\n",
    "lukp_occd6,\n",
    "lukp_occd8,\n",
    "lukp_occd9,\n",
    "lukp_occd10,\n",
    "lukp_occd11,\n",
    "lukp_occd12,\n",
    "lukp_a2_house5,\n",
    "lukp_a2_house6,\n",
    "lukp_a2_house7,\n",
    "lukp_a2_house8,\n",
    "lukp_a2_house1,\n",
    "lukp_a2_house2,\n",
    "lukp_a2_house3,\n",
    "lukp_netfreq10p,\n",
    "ips_intaddict,\n",
    "ips_usetablet,\n",
    "ips_useconsole,\n",
    "lukp_mobhas,\n",
    "ips_haspc,\n",
    "oc14_bghtemailad,\n",
    "oc14_willpaymore,\n",
    "oc14_worthpaymore,\n",
    "oc14_mobweb_wknd1,\n",
    "oc14_mobweb_wknd2,\n",
    "oc14_mobweb_wknd3,\n",
    "ips_apps_games,\n",
    "ips_apps_music,\n",
    "ips_apps_transp,\n",
    "ips_apps_date,\n",
    "ips_apps_deliv,\n",
    "ips_regaccessmobile2,\n",
    "ips_regchat,\n",
    "ips_tvfilmsonline,\n",
    "ips_musicstreamfree,\n",
    "ips_musicstreampaid,\n",
    "ips_regpodcast,\n",
    "ips_netflix,\n",
    "ips_amazonprimetv,\n",
    "oc14_vdemand_mob,\n",
    "oc14_vdemand_pc,\n",
    "oc14_vdemand_tv,\n",
    "ips_vodwads,\n",
    "oc14_buynewtech,\n",
    "oc14_needmobnet,\n",
    "oc14_cheapertech,\n",
    "ips_acceptlbs,\n",
    "ips_acceptvoa,\n",
    "ips_followads,\n",
    "ips_mobascheckout,\n",
    "ips_mobentertain,\n",
    "ips_mobimportant,\n",
    "fr_smartband,\n",
    "ips_smthomeappl,\n",
    "ips_smthomeassist,\n",
    "ips_smthomeutil,\n",
    "ips_tvstreaming,\n",
    "oc14_homesmartspeak,\n",
    "oc14_homesmartlight,\n",
    "oc14_homewifiplugs,\n",
    "ips_wrlspeak,ips_mobmanyapps,\n",
    "ips_mobreggames,ips_likesfactads,oc14_bghttvad,oc14_bghtnewspmagad,oc14_bghtinsertad,\n",
    "oc14_bghtnetad,oc14_bghtmobilead,oc14_bghtleafletad,oc14_respdm\n",
    "\n",
    "\n",
    "\n",
    "FROM `uw-eero-caci-data.oceans.oceans_customers`\n",
    "\n",
    "\"\"\""
   ]
  },
  {
   "cell_type": "code",
   "execution_count": null,
   "id": "nasty-feature",
   "metadata": {},
   "outputs": [],
   "source": [
    "caci=download_data(project_id=PROJECT_ID,query=caci_q)"
   ]
  },
  {
   "cell_type": "code",
   "execution_count": null,
   "id": "detected-giving",
   "metadata": {},
   "outputs": [],
   "source": [
    "marketing=download_data(project_id=PROJECT_ID,query=marketing_pre)"
   ]
  },
  {
   "cell_type": "code",
   "execution_count": null,
   "id": "literary-context",
   "metadata": {},
   "outputs": [],
   "source": [
    "marketing['customer_cust_account_number']=marketing.customer_cust_account_number.astype('int')\n",
    "marketing.drop_duplicates(subset='customer_cust_account_number',inplace=True)"
   ]
  },
  {
   "cell_type": "code",
   "execution_count": null,
   "id": "robust-surfing",
   "metadata": {},
   "outputs": [],
   "source": [
    "partner_postcodes['outcode']=partner_postcodes.copy().postcode.str.split().str[0]\n",
    "partner_postcodes=partner_postcodes[partner_postcodes.partner_position_id.isin(\n",
    "    partner_cohort.partner_position_id)].dropna().reset_index(drop=True)"
   ]
  },
  {
   "cell_type": "code",
   "execution_count": null,
   "id": "worst-bruce",
   "metadata": {},
   "outputs": [],
   "source": [
    "partner_cohort.shape,partner_postcodes.shape"
   ]
  },
  {
   "cell_type": "code",
   "execution_count": null,
   "id": "returning-maker",
   "metadata": {},
   "outputs": [],
   "source": [
    "partner_outcodes=partner_postcodes.groupby(['outcode']).agg(list)[['partner_position_id']]"
   ]
  },
  {
   "cell_type": "code",
   "execution_count": null,
   "id": "republican-confirmation",
   "metadata": {},
   "outputs": [],
   "source": [
    "le=LabelEncoder()\n",
    "bb['has_eeros']=le.fit_transform(bb.has_eeros)\n",
    "bb_no_duplicates=bb.sort_values(by='has_eeros',ascending=False).drop_duplicates(subset='customer_cust_account_number',keep='first').copy()"
   ]
  },
  {
   "cell_type": "code",
   "execution_count": null,
   "id": "numeric-promise",
   "metadata": {},
   "outputs": [],
   "source": [
    "bb_no_duplicates.has_eeros.value_counts()/bb_no_duplicates.shape[0],bb_no_duplicates.shape[0]"
   ]
  },
  {
   "cell_type": "code",
   "execution_count": null,
   "id": "convertible-botswana",
   "metadata": {},
   "outputs": [],
   "source": [
    "bb_no_duplicates['customer_cust_account_number']=bb_no_duplicates.customer_cust_account_number.astype('int')"
   ]
  },
  {
   "cell_type": "code",
   "execution_count": null,
   "id": "caroline-elite",
   "metadata": {},
   "outputs": [],
   "source": [
    "df=bb_no_duplicates.merge(caci,left_on=['customer_cust_account_number'],right_on=['custaccountno'],how='left').drop(['broad_call_connections_cli_number','broad_call_connections_number_of_services','custaccountno'],axis=1)\n",
    "df=df.merge(marketing,left_on='customer_cust_account_number',right_on='customer_cust_account_number',how='left')"
   ]
  },
  {
   "cell_type": "code",
   "execution_count": null,
   "id": "endless-rings",
   "metadata": {},
   "outputs": [],
   "source": [
    "df.isnull().sum()  # --- 3% null values"
   ]
  },
  {
   "cell_type": "code",
   "execution_count": null,
   "id": "worse-letters",
   "metadata": {},
   "outputs": [],
   "source": [
    "## Fillna\n",
    "for c in ['broad_call_connections_equipment','broad_call_connections_broadband_tariff']:\n",
    "    df[c].fillna(df[c].mode()[0],inplace=True)\n",
    "df.outcode.fillna('Unknown',inplace=True)\n",
    "for c in df.columns[5:-1].tolist():\n",
    "    df[c].fillna(df[c].median(),inplace=True)"
   ]
  },
  {
   "cell_type": "code",
   "execution_count": null,
   "id": "minimal-recipe",
   "metadata": {},
   "outputs": [],
   "source": [
    "df.isnull().sum().sum()"
   ]
  },
  {
   "cell_type": "markdown",
   "id": "handed-piece",
   "metadata": {},
   "source": [
    "## EDA"
   ]
  },
  {
   "cell_type": "code",
   "execution_count": null,
   "id": "exterior-boring",
   "metadata": {},
   "outputs": [],
   "source": [
    "# Apply preferred target audience constraints\n",
    "df.rename(columns={'age_1':'age'},inplace=True)\n",
    "df['age_over_67']=np.where(df.age>67,True,False)\n",
    "df.rename(columns={'lukp_netfreq10p':'Internet_frequent_user'},inplace=True)\n",
    "# non_eeros customer base dropped from 255887 to 108984\n",
    "eeros_df=df[df.has_eeros==1]\n",
    "non_eeros=df[df.has_eeros==0]\n",
    "non_eeros=non_eeros[(non_eeros.broad_call_connections_broadband_tariff=='Ultra')|(non_eeros.broad_call_connections_broadband_tariff=='Ultra+')]\n",
    "non_eeros=non_eeros[non_eeros.customer_cust_is_marketing_subscribed=='Yes']\n",
    "non_eeros=non_eeros[~non_eeros.age_over_67]\n",
    "new_df=pd.concat([eeros_df,non_eeros])\n",
    "new_df.drop(['customer_cust_is_marketing_subscribed'],axis=1,inplace=True)\n",
    "new_df.reset_index(drop=True,inplace=True)"
   ]
  },
  {
   "cell_type": "code",
   "execution_count": null,
   "id": "naked-nightmare",
   "metadata": {},
   "outputs": [],
   "source": [
    "# execute only for visualizationkeep df as new df for visualisation purposes\n",
    "new_df=df.copy()"
   ]
  },
  {
   "cell_type": "code",
   "execution_count": null,
   "id": "african-cooper",
   "metadata": {},
   "outputs": [],
   "source": [
    "eeros_df.shape[0]# 0.28%"
   ]
  },
  {
   "cell_type": "code",
   "execution_count": null,
   "id": "packed-certification",
   "metadata": {},
   "outputs": [],
   "source": [
    "g=sns.countplot(x='age_over_67',data=df)\n",
    "g.set_title('Age over 67 distribution',fontsize=19)\n",
    "g.set_xlabel('over 67 ys',fontsize=17)\n",
    "total=len(df)\n",
    "for p in g.patches:\n",
    "    height = p.get_height()\n",
    "    g.text(p.get_x()+p.get_width()/2.,\n",
    "            height + 3,\n",
    "            '{:1.2f}%'.format(height/total*100),\n",
    "            ha=\"center\", fontsize=14)"
   ]
  },
  {
   "cell_type": "code",
   "execution_count": null,
   "id": "unable-dining",
   "metadata": {},
   "outputs": [],
   "source": [
    "g=sns.countplot(x='has_eeros',data=new_df)\n",
    "g.set_title('Eeros distribution',fontsize=19)\n",
    "g.set_xlabel('has eeros',fontsize=17)\n",
    "plt.yscale('log')\n",
    "total=len(new_df)\n",
    "for p in g.patches:\n",
    "    height = p.get_height()\n",
    "    g.text(p.get_x()+p.get_width()/2.,\n",
    "            height + 3,\n",
    "            '{:1.2f}%'.format(height/total*100),\n",
    "            ha=\"center\", fontsize=14)"
   ]
  },
  {
   "cell_type": "code",
   "execution_count": null,
   "id": "straight-luxury",
   "metadata": {},
   "outputs": [],
   "source": [
    "new_df.loc[(new_df.age>=18)&(new_df.age<25),'Age_band']='18-24'\n",
    "new_df.loc[(new_df.age>=25)&(new_df.age<35),'Age_band']='24-34'\n",
    "new_df.loc[(new_df.age>=35)&(new_df.age<45),'Age_band']='35-44'\n",
    "new_df.loc[(new_df.age>=45)&(new_df.age<55),'Age_band']='45-54'\n",
    "new_df.loc[(new_df.age>=55)&(new_df.age<=67),'Age_band']='55-67'\n",
    "new_df.loc[(new_df.age>67),'Age_band']='67+'"
   ]
  },
  {
   "cell_type": "code",
   "execution_count": null,
   "id": "wooden-tiger",
   "metadata": {},
   "outputs": [],
   "source": [
    "cols_to_drop=['age_over_67','age','lukcat_agebandn','lukp_a2_age1','lukp_a2_age2','lukp_a2_age3','lukp_a2_age4',\n",
    "             'lukp_a2_age5','lukcat_incomeband2','lukp_a2_income1',\n",
    " 'lukp_a2_income2',\n",
    " 'lukp_a2_income3',\n",
    " 'lukp_a2_income4',\n",
    " 'lukp_a2_income5',\n",
    " 'lukp_a2_income6a',\n",
    " 'lukp_a2_income6b',\n",
    " 'lukp_a2_income6c','lukp_a2_hhd1', 'lukp_a2_hhd2', 'lukp_a2_hhd5', 'lukp_a2_hhd6','lukp_occd2',\n",
    " 'lukp_occd3',\n",
    " 'lukp_occd5',\n",
    " 'lukp_occd6',\n",
    " 'lukp_occd8',\n",
    " 'lukp_occd9',\n",
    " 'lukp_occd10',\n",
    " 'lukp_occd11',\n",
    " 'lukp_occd12',\n",
    "  'lukp_a2_house5',\n",
    " 'lukp_a2_house6',\n",
    " 'lukp_a2_house7',\n",
    " 'lukp_a2_house8',\n",
    " 'lukp_a2_house1',\n",
    " 'lukp_a2_house2',\n",
    " 'lukp_a2_house3' , 'ips_apps_games', 'ips_apps_music',\n",
    "       'ips_apps_transp', 'ips_apps_date', 'ips_apps_deliv',\n",
    "       'ips_regaccessmobile2', 'oc14_mobweb_wknd1', 'oc14_mobweb_wknd2', 'oc14_mobweb_wknd3','apps_music', 'apps_transp', 'apps_date', 'apps_deliv','regaccessmobile2',\n",
    "'regchat', 'tvfilmsonline', 'musicstreamfree',\n",
    "       'musicstreampaid', 'regpodcast', 'netflix', 'amazonprimetv',\n",
    "       'vdemand_mob', 'vdemand_pc', 'vdemand_tv', 'vodwads', 'ips_regchat', 'ips_tvfilmsonline',\n",
    "       'ips_musicstreamfree', 'ips_musicstreampaid', 'ips_regpodcast',\n",
    "       'ips_netflix', 'ips_amazonprimetv', 'oc14_vdemand_mob',\n",
    "       'oc14_vdemand_pc', 'oc14_vdemand_tv', 'ips_vodwads', 'oc14_buynewtech',\n",
    "       'oc14_needmobnet', 'oc14_cheapertech',\n",
    "       'ips_acceptvoa', 'ips_followads', 'ips_mobascheckout',\n",
    "       'ips_mobentertain', 'ips_mobimportant',  'buynewtech',\n",
    "       'needmobnet', 'cheapertech', 'acceptvoa', 'followads', 'mobascheckout',\n",
    "       'mobentertain', 'mobimportant', 'ips_tvstreaming',  'tvstreaming'  , 'oc14_bghtemailad', 'oc14_willpaymore',\n",
    "       'oc14_worthpaymore',  'ips_likesfactads','oc14_bghttvad',\n",
    "       'oc14_bghtnewspmagad', 'oc14_bghtinsertad', 'oc14_bghtnetad',\n",
    "       'oc14_bghtmobilead', 'oc14_bghtleafletad', 'oc14_respdm', 'oc14_homesmartspeak', 'oc14_homesmartlight',\n",
    "       'oc14_homewifiplugs', 'ips_wrlspeak', 'ips_mobmanyapps',\n",
    "       'ips_mobreggames', 'ips_likesfactads','oc14_bghttvad',\n",
    "       'oc14_bghtnewspmagad', 'oc14_bghtinsertad', 'oc14_bghtnetad',\n",
    "       'oc14_bghtmobilead', 'oc14_bghtleafletad', 'oc14_respdm' ,'ips_acceptlbs','acceptlbs','ips_usetablet', 'ips_useconsole', 'lukp_mobhas', 'ips_haspc',\n",
    "       'fr_smartband', 'ips_smthomeappl', 'ips_smthomeassist',\n",
    "       'ips_smthomeutil','usetablet', 'useconsole',\n",
    "       'mobhas', 'haspc', 'bghtemailad', 'willpaymore', 'worthpaymore',\n",
    "       'apps_games', 'smartband', 'smthomeappl', 'smthomeassist',\n",
    "       'smthomeutil',  'homesmartspeak', 'homesmartlight',\n",
    "       'homewifiplugs', 'wrlspeak', 'mobmanyapps', 'mobreggames',\n",
    "       'likesfactads', 'bghttvad', 'bghtnewspmagad', 'bghtinsertad',\n",
    "       'bghtnetad', 'bghtmobilead', 'bghtleafletad', 'respdm', ]"
   ]
  },
  {
   "cell_type": "code",
   "execution_count": null,
   "id": "possible-creator",
   "metadata": {},
   "outputs": [],
   "source": [
    "new_df['income']=new_df['lukcat_incomeband2'].map({1.0: '0-9999', \n",
    "                                               2.0: '10000-19999', \n",
    "                                               3.0: '20000-29999',\n",
    "                                                        4.0: '30000-39999',\n",
    "                                                        5.0: '40000-49999',\n",
    "                                                        6.0: '50000-74999',\n",
    "                                                        7.0: '75000-99999',\n",
    "                                                        8.0: '100000+'\n",
    "                                               })\n",
    "\n",
    "new_df['min_hh_size']=new_df[[f for f in new_df.columns if 'a2_hhd' in f]].idxmin(axis='columns')\n",
    "hh_map={'lukp_a2_hhd1':'1 person', 'lukp_a2_hhd2':'2 persons', 'lukp_a2_hhd5':'3-4 persons', 'lukp_a2_hhd6':'5+ persons'}\n",
    "new_df['min_hh_size']=new_df.min_hh_size.map(hh_map)\n",
    "new_df['occupation']=new_df[[f for f in new_df.columns if 'occd' in f]].idxmax(axis='columns')\n",
    "job_map={'lukp_occd2':'Director / Managerial',\n",
    " 'lukp_occd3':'Looking after home',\n",
    " 'lukp_occd5':'Office Worker',\n",
    " 'lukp_occd6':'Professional',\n",
    " 'lukp_occd8':'Retired',\n",
    " 'lukp_occd9':'Is self employed',\n",
    " 'lukp_occd10':'Service Sector',\n",
    " 'lukp_occd11':'Skilled / Manual Worker',\n",
    " 'lukp_occd12':'Student'}\n",
    "new_df['occupation']=new_df.occupation.map(job_map)\n",
    "new_df['ownership']=new_df[['lukp_a2_house1',\n",
    " 'lukp_a2_house2',\n",
    " 'lukp_a2_house3']].idxmax(axis='columns')\n",
    "ownership_map={'lukp_a2_house1':'Owner-occupied',\n",
    " 'lukp_a2_house2':'Social renting',\n",
    " 'lukp_a2_house3':'Private renting'}\n",
    "new_df['ownership']=new_df.ownership.map(ownership_map)\n",
    "new_df['property_type']=new_df[[f for f in new_df.columns if 'a2_house' in f][:4]].idxmax(axis='columns')\n",
    "property_map={'lukp_a2_house5':'Detached', 'lukp_a2_house6':'Flat/maisonette',\n",
    " 'lukp_a2_house7':'Semi-detached', 'lukp_a2_house8':'Terraced '}\n",
    "new_df['property_type']=new_df['property_type'].map(property_map)\n",
    "new_df['wkn_internet_usage']=new_df[[f for f in new_df.columns if 'wknd' in f]].idxmax(axis='columns')\n",
    "hour_map={'oc14_mobweb_wknd1':'< 1hr', 'oc14_mobweb_wknd2':'1-5hrs', 'oc14_mobweb_wknd3':'> 5hrs'}\n",
    "new_df['wkn_internet_usage']=new_df.wkn_internet_usage.map(hour_map)"
   ]
  },
  {
   "cell_type": "code",
   "execution_count": null,
   "id": "corresponding-trunk",
   "metadata": {},
   "outputs": [],
   "source": [
    "for c in ['ips_acceptlbs', 'ips_usetablet', 'ips_useconsole', 'ips_tvstreaming',\n",
    "       'lukp_mobhas', 'ips_haspc', 'oc14_bghtemailad', 'oc14_willpaymore',\n",
    "       'oc14_worthpaymore',  'ips_apps_games', 'ips_apps_music',\n",
    "       'ips_apps_transp', 'ips_apps_date', 'ips_apps_deliv',\n",
    "       'ips_regaccessmobile2', 'ips_regchat', 'ips_tvfilmsonline',\n",
    "       'ips_musicstreamfree', 'ips_musicstreampaid', 'ips_regpodcast',\n",
    "       'ips_netflix', 'ips_amazonprimetv', 'oc14_vdemand_mob',\n",
    "       'oc14_vdemand_pc', 'oc14_vdemand_tv', 'ips_vodwads', 'oc14_buynewtech',\n",
    "       'oc14_needmobnet', 'oc14_cheapertech',\n",
    "       'ips_acceptvoa', 'ips_followads', 'ips_mobascheckout',\n",
    "       'ips_mobentertain', 'ips_mobimportant', 'fr_smartband',\n",
    "       'ips_smthomeappl', 'ips_smthomeassist', 'ips_smthomeutil',\n",
    "       'oc14_homesmartspeak', 'oc14_homesmartlight',\n",
    "       'oc14_homewifiplugs', 'ips_wrlspeak', 'ips_mobmanyapps',\n",
    "       'ips_mobreggames', 'ips_likesfactads','oc14_bghttvad',\n",
    "       'oc14_bghtnewspmagad', 'oc14_bghtinsertad', 'oc14_bghtnetad',\n",
    "       'oc14_bghtmobilead', 'oc14_bghtleafletad', 'oc14_respdm']:\n",
    "    if len(c.split('_'))==2:    \n",
    "        new_df[c.split('_')[-1]]=np.where(new_df[c]>0.5,True,False)\n",
    "    else:\n",
    "        new_df[c.split('_')[1]+'_'+c.split('_')[2]]=np.where(new_df[c]>0.5,True,False)\n",
    "new_df['count_apps']=new_df[['apps_music', 'apps_transp', 'apps_date', 'apps_deliv','regaccessmobile2']].sum(axis=1)\n",
    "new_df['count_streaming']=new_df[['regchat', 'tvfilmsonline', 'musicstreamfree',\n",
    "       'musicstreampaid', 'regpodcast', 'netflix', 'amazonprimetv',\n",
    "       'vdemand_mob', 'vdemand_pc', 'vdemand_tv', 'vodwads','tvstreaming']].sum(axis=1) \n",
    "\n",
    "new_df['count_tech_savvy']=new_df[['buynewtech',\n",
    "       'needmobnet', 'cheapertech',\n",
    "       'acceptvoa', 'followads', 'mobascheckout',\n",
    "       'mobentertain', 'mobimportant']].sum(axis=1)\n",
    "new_df['count_home_devices']=new_df[['usetablet', 'useconsole',\n",
    "       'mobhas', 'haspc','smartband',\n",
    "       'smthomeappl', 'smthomeassist', 'smthomeutil',\n",
    "        'homesmartspeak', 'homesmartlight',\n",
    "       'homewifiplugs', 'wrlspeak', 'mobmanyapps',\n",
    "       'mobreggames']].sum(axis=1)\n",
    "\n",
    "new_df['count_marketing_preference']=new_df[[ 'bghtemailad', 'willpaymore',\n",
    "       'worthpaymore',  'likesfactads','bghttvad',\n",
    "       'bghtnewspmagad', 'bghtinsertad', 'bghtnetad',\n",
    "       'bghtmobilead', 'bghtleafletad', 'respdm','acceptlbs']].sum(axis=1)\n",
    "     \n",
    "          "
   ]
  },
  {
   "cell_type": "code",
   "execution_count": null,
   "id": "present-father",
   "metadata": {},
   "outputs": [],
   "source": [
    "# preferred audience constraints applied\n",
    "new_df.dropna(inplace=True)\n",
    "new_df=new_df[new_df.count_home_devices>1]"
   ]
  },
  {
   "cell_type": "code",
   "execution_count": null,
   "id": "enhanced-nepal",
   "metadata": {},
   "outputs": [],
   "source": [
    "df.shape[0]-new_df.shape[0]"
   ]
  },
  {
   "cell_type": "code",
   "execution_count": null,
   "id": "foster-cambodia",
   "metadata": {},
   "outputs": [],
   "source": [
    "new_df.shape"
   ]
  },
  {
   "cell_type": "code",
   "execution_count": null,
   "id": "artistic-campbell",
   "metadata": {},
   "outputs": [],
   "source": [
    "model_df=new_df.drop(['age','age_over_67', 'min_hh_size', 'occupation', 'ownership', 'property_type',\n",
    "       'acceptlbs', 'usetablet', 'useconsole', 'tvstreaming', 'mobhas',\n",
    "       'haspc', 'bghtemailad', 'willpaymore', 'worthpaymore', 'apps_games',\n",
    "       'apps_music', 'apps_transp', 'apps_date', 'apps_deliv',\n",
    "       'regaccessmobile2', 'regchat', 'tvfilmsonline', 'musicstreamfree',\n",
    "       'musicstreampaid', 'regpodcast', 'netflix', 'amazonprimetv',\n",
    "       'vdemand_mob', 'vdemand_pc', 'vdemand_tv', 'vodwads', 'buynewtech',\n",
    "       'needmobnet', 'cheapertech', 'acceptvoa', 'followads', 'mobascheckout',\n",
    "       'mobentertain', 'mobimportant', 'smartband', 'smthomeappl',\n",
    "       'smthomeassist', 'smthomeutil',  'homesmartspeak',\n",
    "       'homesmartlight', 'homewifiplugs', 'wrlspeak', 'mobmanyapps',\n",
    "       'mobreggames', 'likesfactads', 'bghttvad', 'bghtnewspmagad',\n",
    "       'bghtinsertad', 'bghtnetad', 'bghtmobilead', 'bghtleafletad', 'respdm',\n",
    "       'count_apps', 'count_streaming', 'count_tech_savvy',\n",
    "       'count_home_devices', 'count_marketing_preference','wkn_internet_usage'],axis=1).copy()\n",
    "visualization_df=new_df.drop(cols_to_drop,axis=1)\n"
   ]
  },
  {
   "cell_type": "code",
   "execution_count": null,
   "id": "agreed-davis",
   "metadata": {},
   "outputs": [],
   "source": [
    "visualization_df=new_df.drop(cols_to_drop,axis=1)"
   ]
  },
  {
   "cell_type": "code",
   "execution_count": null,
   "id": "dedicated-variety",
   "metadata": {},
   "outputs": [],
   "source": [
    "def sort_cat_label(df):\n",
    "    cat_list=['18-24','24-34','35-44','45-54','55-67','67+']\n",
    "    cat_api=pd.api.types.CategoricalDtype(categories=cat_list,ordered=True)\n",
    "    df['Age_band']=df['Age_band'].astype(cat_api)\n",
    "    cat_list=['0-9999','10000-19999','20000-29999','30000-39999','40000-49999','50000-74999','75000-99999','100000+']\n",
    "    cat_api=pd.api.types.CategoricalDtype(categories=cat_list,ordered=True)\n",
    "    df.income=df.income.astype(cat_api)\n",
    "    cat_list=['1 person','2 persons','5+ persons']\n",
    "    cat_api=pd.api.types.CategoricalDtype(categories=cat_list,ordered=True)\n",
    "    df.min_hh_size=df.min_hh_size.astype(cat_api)\n",
    "    return df  \n"
   ]
  },
  {
   "cell_type": "code",
   "execution_count": null,
   "id": "outstanding-promotion",
   "metadata": {},
   "outputs": [],
   "source": [
    "visualization_df=sort_cat_label(visualization_df)"
   ]
  },
  {
   "cell_type": "code",
   "execution_count": null,
   "id": "sensitive-content",
   "metadata": {},
   "outputs": [],
   "source": [
    "for f in ['broad_call_connections_broadband_tariff', \n",
    "       'lukcat_children', 'lukcat_a2_childage', 'lukcat_hhdsize',\n",
    "       'lukcat_beds',  'Age_band',\n",
    "       'income', 'min_hh_size', 'occupation', 'ownership', 'property_type',\n",
    "       'count_apps', 'count_streaming', 'count_tech_savvy',\n",
    "       'count_home_devices', 'count_marketing_preference']:\n",
    "    fig,ax=plt.subplots(figsize=(12,8))\n",
    "    g=sns.countplot(x=f,data=visualization_df,hue='has_eeros',ax=ax)\n",
    "    plt.yscale('log')\n",
    "    g.set_title(f'{f} distribution',fontsize=19)\n",
    "    g.set_ylabel('no. of eeros',fontsize=17)\n",
    "    plt.xticks(rotation=45)\n",
    "    total=len(visualization_df)\n",
    "    for p in g.patches:\n",
    "        height = p.get_height()\n",
    "        g.text(p.get_x()+p.get_width()/2.,\n",
    "                height + 3,\n",
    "                '{:1.4f}%'.format(height/total*100),\n",
    "                ha=\"center\", fontsize=14)\n",
    "    "
   ]
  },
  {
   "cell_type": "code",
   "execution_count": null,
   "id": "revolutionary-parent",
   "metadata": {},
   "outputs": [],
   "source": [
    "fig,ax=plt.subplots(figsize=(8,6))\n",
    "visualization_df.groupby(['has_eeros'])[['ips_intaddict']].mean().plot(kind='bar',ax=ax,title='Interent Addiction Avg Score per Group')\n",
    "\n"
   ]
  },
  {
   "cell_type": "markdown",
   "id": "brown-subcommittee",
   "metadata": {},
   "source": [
    "# Cosine"
   ]
  },
  {
   "cell_type": "code",
   "execution_count": null,
   "id": "polyphonic-jacksonville",
   "metadata": {},
   "outputs": [],
   "source": [
    "model_df['house_type'] = model_df[['lukp_a2_house5','lukp_a2_house6','lukp_a2_house7', 'lukp_a2_house8']].idxmax(axis=1)\n",
    "\n",
    "\n",
    "model_df['house_type_revised'] = model_df['house_type'].map({'lukp_a2_house5': 'Detached', \n",
    "                                               'lukp_a2_house6': 'Flat_or_maisonnette', \n",
    "                                               'lukp_a2_house7': 'Semi_detached',\n",
    "                                               'lukp_a2_house8': 'Terraced'})\n",
    "model_df['house_usage'] = model_df[['lukp_a2_house1','lukp_a2_house2','lukp_a2_house3']].idxmax(axis=1)\n",
    "\n",
    "\n",
    "model_df['house_usage_revised'] = model_df['house_usage'].map({'lukp_a2_house1': 'owner_occupied', \n",
    "                                               'lukp_a2_house2': 'social_renting', \n",
    "                                               'lukp_a2_house3': 'private_renting'\n",
    "                                               })\n",
    "# mapping income band\n",
    "model_df['income_band'] = model_df['lukcat_incomeband2'].map({1.0: '0-9999', \n",
    "                                               2.0: '10000-19999', \n",
    "                                               3.0: '20000-29999',\n",
    "                                                        4.0: '30000-39999',\n",
    "                                                        5.0: '40000-49999',\n",
    "                                                        6.0: '50000-74999',\n",
    "                                                        7.0: '75000-99999',\n",
    "                                                        8.0: '100000+'\n",
    "                                               })\n",
    "model_df[['lukcat_incomeband2', 'income_band']].head()"
   ]
  },
  {
   "cell_type": "code",
   "execution_count": null,
   "id": "classified-representative",
   "metadata": {},
   "outputs": [],
   "source": [
    "model_df.columns=[col.lower() for col in model_df.columns]"
   ]
  },
  {
   "cell_type": "code",
   "execution_count": null,
   "id": "after-pregnancy",
   "metadata": {},
   "outputs": [],
   "source": [
    "### remove all vars which contains repeated information\n",
    "to_keep = ['customer_cust_account_number',\n",
    "#  'broad_call_connections_equipment',\n",
    " 'broad_call_connections_broadband_tariff',\n",
    "#  'outcode',\n",
    " 'age_band',\n",
    "\n",
    "#  'lukcat_agebandn',\n",
    "#  'lukp_a2_age1',\n",
    "#  'lukp_a2_age2',\n",
    "#  'lukp_a2_age3',\n",
    "#  'lukp_a2_age4',\n",
    "#  'lukp_a2_age5',\n",
    "#  'lukcat_incomeband2',\n",
    "#  'lukp_a2_income1',\n",
    "#  'lukp_a2_income2',\n",
    "#  'lukp_a2_income3',\n",
    "#  'lukp_a2_income4',\n",
    "#  'lukp_a2_income5',\n",
    "#  'lukp_a2_income6a',\n",
    "#  'lukp_a2_income6b',\n",
    "#  'lukp_a2_income6c',\n",
    " 'income_band',\n",
    "#  'lukp_a2_hhd1',\n",
    "#  'lukp_a2_hhd2',\n",
    "#  'lukp_a2_hhd5',\n",
    "#  'lukp_a2_hhd6',\n",
    " 'lukcat_children',\n",
    " 'lukcat_a2_childage',\n",
    " 'lukcat_hhdsize',\n",
    " 'lukcat_beds',\n",
    "#  'lukp_occd2',\n",
    "#  'lukp_occd3',\n",
    "#  'lukp_occd5',\n",
    "#  'lukp_occd6',\n",
    "#  'lukp_occd8',\n",
    "#  'lukp_occd9',\n",
    "#  'lukp_occd10',\n",
    "#  'lukp_occd11',\n",
    "#  'lukp_occd12',\n",
    "#  'lukp_a2_house5',\n",
    "#  'lukp_a2_house6',\n",
    "#  'lukp_a2_house7',\n",
    "#  'lukp_a2_house8',\n",
    "#  'house_type', \n",
    " 'house_type_revised',\n",
    "           \n",
    "#  'lukp_a2_house1',\n",
    "#  'lukp_a2_house2',\n",
    "#  'lukp_a2_house3',\n",
    "#  'house_usage', \n",
    " 'house_usage_revised',\n",
    " 'internet_frequent_user',\n",
    " 'ips_intaddict',\n",
    " 'ips_usetablet',\n",
    " 'ips_useconsole',\n",
    " 'lukp_mobhas',\n",
    " 'ips_haspc',\n",
    " 'oc14_bghtemailad',\n",
    " 'oc14_willpaymore',\n",
    " 'oc14_worthpaymore',\n",
    " 'oc14_mobweb_wknd1',\n",
    " 'oc14_mobweb_wknd2',\n",
    " 'oc14_mobweb_wknd3',\n",
    " 'ips_apps_games',\n",
    " 'ips_apps_music',\n",
    " 'ips_apps_transp',\n",
    " 'ips_apps_date',\n",
    " 'ips_apps_deliv',\n",
    " 'ips_regaccessmobile2',\n",
    " 'ips_regchat',\n",
    " 'ips_tvfilmsonline',\n",
    " 'ips_musicstreamfree',\n",
    " 'ips_musicstreampaid',\n",
    " 'ips_regpodcast',\n",
    " 'ips_netflix',\n",
    " 'ips_amazonprimetv',\n",
    " 'oc14_vdemand_mob',\n",
    " 'oc14_vdemand_pc',\n",
    " 'oc14_vdemand_tv',\n",
    " 'ips_vodwads',\n",
    " 'oc14_buynewtech',\n",
    " 'oc14_needmobnet',\n",
    " 'oc14_cheapertech',\n",
    " 'ips_acceptlbs',\n",
    " 'ips_acceptvoa',\n",
    " 'ips_followads',\n",
    " 'ips_mobascheckout',\n",
    " 'ips_mobentertain',\n",
    " 'ips_mobimportant',\n",
    " 'fr_smartband',\n",
    " 'ips_smthomeappl',\n",
    " 'ips_smthomeassist',\n",
    " 'ips_smthomeutil',\n",
    " 'ips_tvstreaming',\n",
    " 'oc14_homesmartspeak',\n",
    " 'oc14_homesmartlight',\n",
    " 'oc14_homewifiplugs',\n",
    " 'ips_wrlspeak',\n",
    " 'ips_mobmanyapps',\n",
    " 'ips_mobreggames',\n",
    " 'ips_likesfactads',\n",
    " 'oc14_bghttvad',\n",
    " 'oc14_bghtnewspmagad',\n",
    " 'oc14_bghtinsertad',\n",
    " 'oc14_bghtnetad',\n",
    " 'oc14_bghtmobilead',\n",
    " 'oc14_bghtleafletad',\n",
    " 'oc14_respdm',\n",
    " \n",
    " 'has_eeros']"
   ]
  },
  {
   "cell_type": "code",
   "execution_count": null,
   "id": "intensive-cambridge",
   "metadata": {},
   "outputs": [],
   "source": [
    "model_df_cleaned=model_df[to_keep]"
   ]
  },
  {
   "cell_type": "code",
   "execution_count": null,
   "id": "present-liberty",
   "metadata": {},
   "outputs": [],
   "source": [
    "cat_vars= model_df_cleaned.select_dtypes(include=['object'])\n",
    "cat_vars\n",
    "for var in cat_vars:\n",
    "    cat_list='var'+'_'+var\n",
    "    cat_list = pd.get_dummies(model_df_cleaned[var], prefix=var)\n",
    "    data1=model_df_cleaned.join(cat_list)\n",
    "    model_df_cleaned=data1\n",
    "    \n",
    "data_vars=model_df_cleaned.columns.values.tolist()\n",
    "to_keep=[i for i in data_vars if i not in cat_vars]"
   ]
  },
  {
   "cell_type": "code",
   "execution_count": null,
   "id": "cubic-witness",
   "metadata": {},
   "outputs": [],
   "source": [
    "model_df_cleaned[to_keep].shape"
   ]
  },
  {
   "cell_type": "code",
   "execution_count": null,
   "id": "simple-chicago",
   "metadata": {},
   "outputs": [],
   "source": [
    "# further selection of features to keep\n",
    "eeros_cleaned_new = model_df_cleaned[to_keep]\n",
    "eeros_cleaned_new= eeros_cleaned_new.drop(['broad_call_connections_broadband_tariff_Ultra','age_band_55-67', 'income_band_0-9999', \n",
    "                        'house_type_revised_Flat_or_maisonnette', 'house_usage_revised_private_renting'], axis=1)\n",
    "eeros_cleaned_new= eeros_cleaned_new.set_index('customer_cust_account_number')\n",
    "eeros_cleaned_new.head()"
   ]
  },
  {
   "cell_type": "code",
   "execution_count": null,
   "id": "mexican-toner",
   "metadata": {},
   "outputs": [],
   "source": [
    "eeros_cleaned_new['has_product'] = eeros_cleaned_new['has_eeros'] # this is done to add the target var at the end of dataframe\n",
    "eeros_cleaned_new.drop(['has_eeros'], axis=1, inplace=True)"
   ]
  },
  {
   "cell_type": "code",
   "execution_count": null,
   "id": "rough-diagram",
   "metadata": {},
   "outputs": [],
   "source": [
    "eeros_cleaned_new.has_product.value_counts()"
   ]
  },
  {
   "cell_type": "markdown",
   "id": "nasty-noise",
   "metadata": {},
   "source": [
    "## PCA + Cosine"
   ]
  },
  {
   "cell_type": "code",
   "execution_count": null,
   "id": "continuing-stuff",
   "metadata": {},
   "outputs": [],
   "source": [
    "from sklearn.metrics.pairwise import cosine_similarity\n",
    "from sklearn.decomposition import PCA"
   ]
  },
  {
   "cell_type": "code",
   "execution_count": null,
   "id": "certain-lesson",
   "metadata": {},
   "outputs": [],
   "source": [
    "pca=PCA(n_components=4)"
   ]
  },
  {
   "cell_type": "code",
   "execution_count": null,
   "id": "decreased-blocking",
   "metadata": {},
   "outputs": [],
   "source": [
    "pca_eeros=pca.fit_transform(eeros_cleaned_new.iloc[:,:-1])"
   ]
  },
  {
   "cell_type": "code",
   "execution_count": null,
   "id": "abstract-holder",
   "metadata": {},
   "outputs": [],
   "source": [
    "pca.explained_variance_ratio_"
   ]
  },
  {
   "cell_type": "code",
   "execution_count": null,
   "id": "caroline-recipe",
   "metadata": {},
   "outputs": [],
   "source": [
    "len(pca.components_)"
   ]
  },
  {
   "cell_type": "code",
   "execution_count": null,
   "id": "dated-citizen",
   "metadata": {},
   "outputs": [],
   "source": [
    "# prepare the pca_df for cosine later\n",
    "pca_df=pd.DataFrame({'pca_1':pca_eeros[:,0],\n",
    "             'pca_2':pca_eeros[:,1],\n",
    "            'pca_3':pca_eeros[:,2],\n",
    "                     'pca_4':pca_eeros[:,3],\n",
    "             'has_product':eeros_cleaned_new.has_product})"
   ]
  },
  {
   "cell_type": "code",
   "execution_count": null,
   "id": "disciplinary-needle",
   "metadata": {},
   "outputs": [],
   "source": [
    "# Used the pca data to dervive eeros only customer and not eeros customers for cosine\n",
    "eeros_customers = pca_df[pca_df.has_product==1]\n",
    "non_eeros_customer = pca_df[pca_df.has_product==0]\n",
    "non_eeros_customer.index.name = 'customer_cust_account_number_target'\n",
    "print(eeros_customers.shape, non_eeros_customer.shape)"
   ]
  },
  {
   "cell_type": "code",
   "execution_count": null,
   "id": "frozen-surface",
   "metadata": {},
   "outputs": [],
   "source": [
    "cosine_mat = cosine_similarity(eeros_customers, non_eeros_customer)\n",
    "len(cosine_mat)"
   ]
  },
  {
   "cell_type": "code",
   "execution_count": null,
   "id": "aging-withdrawal",
   "metadata": {},
   "outputs": [],
   "source": [
    "pca_cosine_df= pd.DataFrame(data=cosine_mat,    # values\n",
    "             index=eeros_customers.index,    # 1st column as index\n",
    "              columns = non_eeros_customer.index)"
   ]
  },
  {
   "cell_type": "code",
   "execution_count": null,
   "id": "graduate-holiday",
   "metadata": {},
   "outputs": [],
   "source": [
    "pca_cosine_1=pca_cosine_df.stack().reset_index().copy()\n",
    "pca_cosine_1.rename(columns={0: 'distance'},inplace=True)"
   ]
  },
  {
   "cell_type": "code",
   "execution_count": null,
   "id": "egyptian-malpractice",
   "metadata": {},
   "outputs": [],
   "source": [
    "### lets select those customers which are most closest in terms of behaviour\n",
    "threshhold = 0.935\n",
    "pca_dup_result = pca_cosine_1[pca_cosine_1.distance > threshhold]"
   ]
  },
  {
   "cell_type": "code",
   "execution_count": null,
   "id": "printable-illustration",
   "metadata": {},
   "outputs": [],
   "source": [
    "# grpah to show the distribution of distance result and 90% threshold \n",
    "fig,ax=plt.subplots(figsize=(8,6))\n",
    "sns.distplot(pca_cosine_1.distance,ax=ax)\n",
    "ax.axvline(pca_cosine_1.distance.quantile(0.9),color='red',linestyle='--',linewidth=5)"
   ]
  },
  {
   "cell_type": "code",
   "execution_count": null,
   "id": "organic-serve",
   "metadata": {},
   "outputs": [],
   "source": [
    "pca_dedup_result = pca_dup_result.drop_duplicates(subset=['customer_cust_account_number_target'])"
   ]
  },
  {
   "cell_type": "code",
   "execution_count": null,
   "id": "imperial-wound",
   "metadata": {},
   "outputs": [],
   "source": [
    "pca_customer_list=pca_dedup_result['customer_cust_account_number_target'].to_list()"
   ]
  },
  {
   "cell_type": "code",
   "execution_count": null,
   "id": "humanitarian-survivor",
   "metadata": {},
   "outputs": [],
   "source": [
    "pca_test = eeros_cleaned_new[eeros_cleaned_new.index.isin(pca_customer_list)]\n",
    "pca_test.shape"
   ]
  },
  {
   "cell_type": "code",
   "execution_count": null,
   "id": "sudden-straight",
   "metadata": {},
   "outputs": [],
   "source": [
    "pca_test.has_product.value_counts()"
   ]
  },
  {
   "cell_type": "code",
   "execution_count": null,
   "id": "warming-password",
   "metadata": {},
   "outputs": [],
   "source": [
    "# df for eeros only customers, not eeros customers\n",
    "eeros_customers = eeros_cleaned_new[eeros_cleaned_new.has_product==1]\n",
    "non_eeros_customer = eeros_cleaned_new[eeros_cleaned_new.has_product==0]\n",
    "non_eeros_customer.index.name = 'customer_cust_account_number_target'\n",
    "print(eeros_customers.shape, non_eeros_customer.shape)"
   ]
  },
  {
   "cell_type": "code",
   "execution_count": null,
   "id": "czech-issue",
   "metadata": {},
   "outputs": [],
   "source": [
    "cosine_mat = cosine_similarity(eeros_customers, non_eeros_customer)\n",
    "cosine_mat"
   ]
  },
  {
   "cell_type": "code",
   "execution_count": null,
   "id": "retired-junior",
   "metadata": {},
   "outputs": [],
   "source": [
    "## convert cosine matrix to dataframe with rows as erros customer (ID) and columns as non eeros customers (ID) and values as their distance\n",
    "cosine_df= pd.DataFrame(data=cosine_mat,    # values\n",
    "             index=eeros_customers.index,    # 1st column as index\n",
    "              columns = non_eeros_customer.index)"
   ]
  },
  {
   "cell_type": "code",
   "execution_count": null,
   "id": "continent-plaza",
   "metadata": {},
   "outputs": [],
   "source": [
    "### lets unstack to see the result as erros customer id, non eeros custoemr id and distance\n",
    "cosine_df1 = cosine_df.stack().reset_index()\n",
    "cosine_df1.head()"
   ]
  },
  {
   "cell_type": "code",
   "execution_count": null,
   "id": "traditional-peeing",
   "metadata": {},
   "outputs": [],
   "source": [
    "cosine_df1.shape # this should be equal to dim(eeros customer data)*dim(non-eeros customer data)"
   ]
  },
  {
   "cell_type": "code",
   "execution_count": null,
   "id": "transparent-mumbai",
   "metadata": {},
   "outputs": [],
   "source": [
    "cosine_df2 = cosine_df1.rename(columns={0: 'distance'})"
   ]
  },
  {
   "cell_type": "code",
   "execution_count": null,
   "id": "turkish-freeze",
   "metadata": {},
   "outputs": [],
   "source": [
    "### lets select those customers which are most closest in terms of behaviour\n",
    "threshhold = 0.985\n",
    "dup_result = cosine_df2[cosine_df2.distance > threshhold]"
   ]
  },
  {
   "cell_type": "code",
   "execution_count": null,
   "id": "gothic-hayes",
   "metadata": {},
   "outputs": [],
   "source": [
    "### the above result can have duplicates, lets de duplicate them\n",
    "dedup_result = dup_result.drop_duplicates(subset=['customer_cust_account_number_target'])"
   ]
  },
  {
   "cell_type": "code",
   "execution_count": null,
   "id": "reported-ethiopia",
   "metadata": {},
   "outputs": [],
   "source": [
    "customers_to_target = dedup_result['customer_cust_account_number_target'].to_list()"
   ]
  },
  {
   "cell_type": "code",
   "execution_count": null,
   "id": "declared-outreach",
   "metadata": {},
   "outputs": [],
   "source": [
    "### Check if the above list has all non erros customers\n",
    "test = eeros_cleaned_new[eeros_cleaned_new.index.isin(customers_to_target)]\n",
    "test.shape"
   ]
  },
  {
   "cell_type": "code",
   "execution_count": null,
   "id": "intended-tobacco",
   "metadata": {},
   "outputs": [],
   "source": [
    "test.has_product.value_counts()"
   ]
  },
  {
   "cell_type": "code",
   "execution_count": null,
   "id": "excess-jacob",
   "metadata": {},
   "outputs": [],
   "source": [
    "# check the intersection of recommened customers' lists from Cosine only approach and PCA+Cosine approach\n",
    "both_recommeded_lists=list(set(pca_customer_list).intersection(set(customers_to_target)))"
   ]
  },
  {
   "cell_type": "code",
   "execution_count": null,
   "id": "serial-ethernet",
   "metadata": {},
   "outputs": [],
   "source": [
    "pd.DataFrame(pca_customer_list).to_csv('pca_eeros_list.csv')"
   ]
  },
  {
   "cell_type": "code",
   "execution_count": null,
   "id": "known-neighborhood",
   "metadata": {},
   "outputs": [],
   "source": [
    "pd.DataFrame(both_recommeded_lists).to_csv('both_recommended_list_eeros.csv')"
   ]
  },
  {
   "cell_type": "code",
   "execution_count": null,
   "id": "remarkable-infection",
   "metadata": {},
   "outputs": [],
   "source": [
    "len(pca_customer_list)"
   ]
  },
  {
   "cell_type": "markdown",
   "id": "inclusive-sydney",
   "metadata": {},
   "source": [
    "## Map"
   ]
  },
  {
   "cell_type": "code",
   "execution_count": null,
   "id": "alert-canada",
   "metadata": {},
   "outputs": [],
   "source": [
    "distance_ranking = (unstacked_dis\n",
    "                    .loc[unstacked_dis['from']\n",
    "                         .isin(df.outcode.drop_duplicates())]\n",
    "                    .join(partner_outcodes, on='to').dropna())"
   ]
  },
  {
   "cell_type": "code",
   "execution_count": null,
   "id": "driven-violence",
   "metadata": {},
   "outputs": [],
   "source": [
    "_res=[]   ## update the dataframe names \n",
    "for r in distance_ranking.to_dict(orient='records'):\n",
    "    _res+=[{'bb_outcode':r['from'],'partner_outcode':r['to'],\n",
    "     'distance_km':r['distance_km'],'partner_position_id':p} for p in r['partner_position_id']]"
   ]
  },
  {
   "cell_type": "code",
   "execution_count": null,
   "id": "civil-ireland",
   "metadata": {},
   "outputs": [],
   "source": [
    "normalised_distances=pd.DataFrame(_res).sort_values(['bb_outcode','distance_km'])"
   ]
  },
  {
   "cell_type": "code",
   "execution_count": null,
   "id": "dried-institution",
   "metadata": {},
   "outputs": [],
   "source": [
    "normalised_distances.to_csv('normalised_distances.csv')"
   ]
  },
  {
   "cell_type": "code",
   "execution_count": null,
   "id": "front-diabetes",
   "metadata": {},
   "outputs": [],
   "source": [
    "normalised_distances=pd.read_csv('normalised_distances.csv')\n",
    "normalised_distances.drop(['Unnamed: 0'],axis=1,inplace=True)"
   ]
  },
  {
   "cell_type": "code",
   "execution_count": null,
   "id": "exclusive-supervisor",
   "metadata": {},
   "outputs": [],
   "source": [
    "df.to_csv('df.csv')\n",
    "bq_rfm.to_csv('bq_rfm.csv')"
   ]
  },
  {
   "cell_type": "code",
   "execution_count": null,
   "id": "third-computer",
   "metadata": {},
   "outputs": [],
   "source": [
    "normalised_distances=normalised_distances[normalised_distances.distance_km <= 10]\n",
    "normalised_distances = normalised_distances.join(bq_rfm.set_index('partner_position_id'), \n",
    "                                                 on='partner_position_id', how='inner')\n",
    "normalised_distances=(normalised_distances.loc[(normalised_distances.rfm_score >= 10)])"
   ]
  },
  {
   "cell_type": "code",
   "execution_count": null,
   "id": "operational-maximum",
   "metadata": {},
   "outputs": [],
   "source": [
    "normalised_distances=normalised_distances[['bb_outcode','partner_outcode','distance_km','partner_position_id','tenure_months','rfm_score','rfm_category','title_group']]"
   ]
  },
  {
   "cell_type": "code",
   "execution_count": null,
   "id": "objective-absence",
   "metadata": {},
   "outputs": [],
   "source": [
    "bb_customer=df[['customer_cust_account_number','broad_call_connections_equipment','broad_call_connections_broadband_tariff',\n",
    "    'has_eeros','outcode']]\n",
    "filtered_data=normalised_distances.join(bb_customer.set_index('outcode'),on='bb_outcode', how='right')"
   ]
  },
  {
   "cell_type": "code",
   "execution_count": null,
   "id": "korean-sheriff",
   "metadata": {},
   "outputs": [],
   "source": [
    "all_postcodes = pd.read_csv('ukpostcodes.csv')\n",
    "all_postcodes['outcode'] = all_postcodes.postcode.str.split().str[0]\n",
    "outcodes = outcodes.join(all_postcodes.dropna().groupby('outcode')['postcode'].count(), on='postcode', \n",
    "                         how='left', rsuffix='_count')\n",
    "outcodes.dropna(inplace=True)"
   ]
  },
  {
   "cell_type": "code",
   "execution_count": null,
   "id": "following-maine",
   "metadata": {},
   "outputs": [],
   "source": [
    "bb_data=(filtered_data\n",
    " .drop_duplicates().join(outcodes.set_index('postcode'), \n",
    "       on='bb_outcode', how='inner')\n",
    ".reset_index(drop=True).join(df.groupby('outcode').count()['customer_cust_account_number'],\n",
    "                             on='bb_outcode', how='left',rsuffix='_count'))"
   ]
  },
  {
   "cell_type": "code",
   "execution_count": null,
   "id": "tracked-david",
   "metadata": {},
   "outputs": [],
   "source": [
    "%pip install folium -qq"
   ]
  },
  {
   "cell_type": "code",
   "execution_count": null,
   "id": "narrow-flood",
   "metadata": {},
   "outputs": [],
   "source": [
    "partner_data = (filtered_data.loc[:, ['partner_position_id', 'rfm_score']]\n",
    " .join(partner_postcodes.set_index('partner_position_id')['postcode'], on='partner_position_id', how='left')\n",
    " .join(all_postcodes.set_index('postcode').loc[:, ['latitude', 'longitude']], on='postcode', how='left')\n",
    "                .drop_duplicates()\n",
    ")"
   ]
  },
  {
   "cell_type": "code",
   "execution_count": null,
   "id": "pressing-carol",
   "metadata": {},
   "outputs": [],
   "source": [
    "bb_data.dropna(inplace=True)\n",
    "partner_data.dropna(inplace=True)"
   ]
  },
  {
   "cell_type": "code",
   "execution_count": null,
   "id": "unusual-integrity",
   "metadata": {},
   "outputs": [],
   "source": [
    "non_eeros_pcode_heatmapdata = bb_customer.loc[bb_customer.has_eeros==0].join(all_postcodes.set_index('postcode').loc[:, ['latitude', 'longitude']], \n",
    "                    on='outcode', how='inner').loc[:, ['latitude', 'longitude']].values\n",
    "eeros_live_pcode_hmdata = bb_customer.loc[bb_customer.has_eeros==1].join(all_postcodes.set_index('postcode').loc[:, ['latitude', 'longitude']], \n",
    "                    on='outcode', how='inner').loc[:, ['latitude', 'longitude']].values\n",
    "\n"
   ]
  },
  {
   "cell_type": "code",
   "execution_count": null,
   "id": "second-landing",
   "metadata": {},
   "outputs": [],
   "source": [
    "import folium\n",
    "from folium.plugins import MarkerCluster \n",
    "from folium.plugins import HeatMap\n"
   ]
  },
  {
   "cell_type": "code",
   "execution_count": null,
   "id": "gentle-river",
   "metadata": {},
   "outputs": [],
   "source": [
    "# Bounds\n",
    "min_lat, max_lat = 48.77, 60\n",
    "min_lon, max_lon = -9.05, 5\n",
    "\n",
    "m = folium.Map(location=[53.884797 , -3.438721],\n",
    "               tiles='Stamen Terrain', \n",
    "               zoom_start=6,\n",
    "               min_lat=min_lat, \n",
    "               max_lat=max_lat,\n",
    "               min_lon=min_lon, \n",
    "               max_lon=max_lon,\n",
    "               max_zoom=18, \n",
    "               min_zoom=5)\n",
    "\n",
    "bb_outcodes_feature_group = folium.FeatureGroup(name='Broadband outcodes').add_to(m) #Creates a Feature Group that adds its child layers into a parent group when added to a map (e.g. through LayerControl). \n",
    "                                                        # Useful to create nested groups, or cluster markers from multiple overlays\n",
    "not_yet_eeros_feature_group = folium.FeatureGroup(name='Not Eeros postcodes').add_to(m)\n",
    "eeros_live_feature_group = folium.FeatureGroup(name='Eeros live postcodes').add_to(m)\n",
    "\n",
    "circle_colours = {'Low': 'red', 'Mid': 'yellow', 'High': 'green'}\n",
    "\n",
    "for pc in bb_data.to_dict(orient='records'):\n",
    "    popup = folium.Tooltip(f\"\"\"{pc['bb_outcode']}<br>Postcodes: {pc['bb_outcode']}\"\"\")\n",
    "    marker = folium.Circle(location=(pc['latitude'], pc['longitude']), radius=5_000,\n",
    "                           tooltip=popup, #(the popup message) \n",
    "                          ).add_to(m)\n",
    "    marker.add_to(bb_outcodes_feature_group)\n",
    "    \n",
    "heatmap = HeatMap(non_eeros_pcode_heatmapdata, radius=25, control=False).add_to(m)\n",
    "heatmap.add_to(not_yet_eeros_feature_group);\n",
    "\n",
    "heatmap = HeatMap(eeros_live_pcode_hmdata, radius=25, control=False).add_to(m)\n",
    "heatmap.add_to(eeros_live_feature_group);"
   ]
  },
  {
   "cell_type": "code",
   "execution_count": null,
   "id": "abroad-excuse",
   "metadata": {},
   "outputs": [],
   "source": [
    "partners_feature_group = folium.FeatureGroup(name='Partners').add_to(m)\n",
    "\n",
    "partner_cluster =  MarkerCluster(control=False).add_to(m)\n",
    "partner_cluster.add_to(partners_feature_group)\n",
    "\n",
    "for pc in partner_data.loc[partner_data.latitude.notna()].to_dict(orient='records'):\n",
    "    popup = folium.Popup(f\"{pc['partner_position_id']}<br>Postcode: {pc['postcode']}<br>RFM: {round(pc['rfm_score'], 2)}\")\n",
    "    icon = folium.map.Icon(color='darkpurple')\n",
    "    marker = folium.Marker(location=(pc['latitude'], pc['longitude']), \n",
    "                           clustered_marker=True, popup=popup, icon=icon).add_to(partner_cluster)\n"
   ]
  },
  {
   "cell_type": "code",
   "execution_count": null,
   "id": "pending-schedule",
   "metadata": {},
   "outputs": [],
   "source": [
    "folium.LayerControl().add_to(m)\n",
    "m"
   ]
  },
  {
   "cell_type": "code",
   "execution_count": null,
   "id": "million-clause",
   "metadata": {},
   "outputs": [],
   "source": []
  }
 ],
 "metadata": {
  "kernelspec": {
   "display_name": "Python 3",
   "language": "python",
   "name": "python3"
  },
  "language_info": {
   "codemirror_mode": {
    "name": "ipython",
    "version": 3
   },
   "file_extension": ".py",
   "mimetype": "text/x-python",
   "name": "python",
   "nbconvert_exporter": "python",
   "pygments_lexer": "ipython3",
   "version": "3.8.8"
  }
 },
 "nbformat": 4,
 "nbformat_minor": 5
}
