{
 "cells": [
  {
   "cell_type": "code",
   "execution_count": null,
   "id": "duplicate-melissa",
   "metadata": {},
   "outputs": [],
   "source": [
    "%pip install -qq umap-learn "
   ]
  },
  {
   "cell_type": "code",
   "execution_count": null,
   "id": "controlling-decrease",
   "metadata": {},
   "outputs": [],
   "source": [
    "import pydata_google_auth\n",
    "import pandas_gbq\n",
    "import pandas as pd"
   ]
  },
  {
   "cell_type": "code",
   "execution_count": null,
   "id": "single-queue",
   "metadata": {},
   "outputs": [],
   "source": [
    "PROJECT_ID = 'uw-data-platform-prod'\n",
    "\n",
    "auth = pydata_google_auth.get_user_credentials(scopes=[\"https://www.googleapis.com/auth/bigquery\"])"
   ]
  },
  {
   "cell_type": "code",
   "execution_count": null,
   "id": "regulation-efficiency",
   "metadata": {},
   "outputs": [],
   "source": [
    "ids_q = \"\"\"SELECT DISTINCT partner_position_id FROM \n",
    "`uw-partner-prod.metrics_analysis.partner_position_master_data_daily` \n",
    "\"\"\""
   ]
  },
  {
   "cell_type": "code",
   "execution_count": null,
   "id": "independent-conviction",
   "metadata": {},
   "outputs": [],
   "source": [
    "observed_features = ['jtc_applications_last_3m', 'articles_unique_days_viewed_last_1m',\n",
    "                     'prospects_unique_days_viewed_last_1m', 'learning_plans_started_last_1m',\n",
    "                    'days_logged_into_portal_last_3m', \"customers_gathered_last_1m\"]\n",
    "\n",
    "_id = ['partner_position_id', 'snapshot_date', 'avg_monthly_ri_earned_last_1y']"
   ]
  },
  {
   "cell_type": "code",
   "execution_count": null,
   "id": "removed-accordance",
   "metadata": {},
   "outputs": [],
   "source": [
    "## A copy of this file can be downloaded from \n",
    "## https://drive.google.com/file/d/1VWyqF_lzN3ABcsyrkTF-HayiUO3F_Gsr/view?usp=sharing\n",
    "population = pd.read_csv('../dashboard_experiment.csv')"
   ]
  },
  {
   "cell_type": "code",
   "execution_count": null,
   "id": "together-remark",
   "metadata": {},
   "outputs": [],
   "source": [
    "q_pattern = \"\"\"\\\n",
    "SELECT {} FROM `uw-partner-prod.metrics_analysis.partner_position_master_data_daily`  \n",
    "WHERE snapshot_date BETWEEN '2021-03-09' AND '2021-04-09'\n",
    "ORDER BY 1, 2\n",
    "\"\"\"\n",
    "features_query = q_pattern.format(' ,'.join(_id + observed_features))\n"
   ]
  },
  {
   "cell_type": "code",
   "execution_count": null,
   "id": "missing-picture",
   "metadata": {},
   "outputs": [],
   "source": [
    "resp_df = pd.read_gbq(features_query, PROJECT_ID, credentials=auth, use_bqstorage_api=True )"
   ]
  },
  {
   "cell_type": "code",
   "execution_count": null,
   "id": "dried-aquatic",
   "metadata": {},
   "outputs": [],
   "source": [
    "population['experiment_group'] = 'None'\n",
    "population.loc[population.is_test, 'experiment_group'] = 'Test'\n",
    "population.loc[population.is_control, 'experiment_group'] = 'Control'"
   ]
  },
  {
   "cell_type": "code",
   "execution_count": null,
   "id": "cutting-vegetation",
   "metadata": {},
   "outputs": [],
   "source": [
    "data_df = resp_df.set_index('partner_position_id').join(population.set_index('partner_position_id')\n",
    "                                              [['is_test', 'is_control', 'experiment_group']], how='inner')"
   ]
  },
  {
   "cell_type": "code",
   "execution_count": null,
   "id": "patent-small",
   "metadata": {},
   "outputs": [],
   "source": [
    "data_df['has_gathered_last_1m'] = data_df['customers_gathered_last_1m'] > 0"
   ]
  },
  {
   "cell_type": "code",
   "execution_count": null,
   "id": "sustained-cowboy",
   "metadata": {},
   "outputs": [],
   "source": [
    "columns = ['snapshot_date', 'avg_monthly_ri_earned_last_1y',\n",
    "       'jtc_applications_last_3m', 'articles_unique_days_viewed_last_1m',\n",
    "       'prospects_unique_days_viewed_last_1m',\n",
    "       'learning_plans_started_last_1m', 'days_logged_into_portal_last_3m',\n",
    "       'customers_gathered_last_1m']"
   ]
  },
  {
   "cell_type": "code",
   "execution_count": null,
   "id": "expressed-ability",
   "metadata": {},
   "outputs": [],
   "source": [
    "data_df['avg_monthly_ri_earned_last_1y'] = data_df['avg_monthly_ri_earned_last_1y'].astype(float)\n"
   ]
  },
  {
   "cell_type": "code",
   "execution_count": null,
   "id": "diverse-milton",
   "metadata": {},
   "outputs": [],
   "source": [
    "from sklearn.cluster import DBSCAN\n",
    "import umap\n",
    "from sklearn import metrics\n",
    "import numpy as np\n",
    "import matplotlib.pyplot as plt"
   ]
  },
  {
   "cell_type": "code",
   "execution_count": null,
   "id": "standard-interpretation",
   "metadata": {},
   "outputs": [],
   "source": [
    "X = data_df.loc[data_df.is_test , :\"customers_gathered_last_1m\"]"
   ]
  },
  {
   "cell_type": "code",
   "execution_count": null,
   "id": "molecular-forest",
   "metadata": {},
   "outputs": [],
   "source": [
    "import seaborn as sns\n",
    "sns.set(style='white', context='notebook', rc={'figure.figsize':(14,10)})\n"
   ]
  },
  {
   "cell_type": "code",
   "execution_count": null,
   "id": "viral-negotiation",
   "metadata": {},
   "outputs": [],
   "source": [
    "def draw_umap(n_neighbors=10, min_dist=0.3, n_components=2, metric='euclidean', title='', eps=.8):\n",
    "    RANDOM_STATE = 39\n",
    "    fit = umap.UMAP(\n",
    "        n_neighbors=n_neighbors,\n",
    "        min_dist=min_dist,\n",
    "        n_components=n_components,\n",
    "        metric=metric, n_jobs=-1,\n",
    "        random_state=RANDOM_STATE\n",
    "    )\n",
    "\n",
    "    X_ = X.loc[X.snapshot_date == X.snapshot_date.min(), \"avg_monthly_ri_earned_last_1y\":].dropna().copy()\n",
    "    u = fit.fit_transform(X_)\n",
    "    db = DBSCAN(eps=eps, min_samples=10, n_jobs=-1)\n",
    "    cols = db.fit_predict(u)\n",
    "    X_['component_1'] = u[:, 0]\n",
    "    X_['component_2'] = u[:, 1]\n",
    "    X_['cluster'] = cols\n",
    "    fig = plt.figure()\n",
    "    ax = fig.add_subplot(111)\n",
    "    scatter = ax.scatter(x='component_1', y='component_2', c='cluster', data=X_,  cmap='Accent', s=50)\n",
    "    legend1 = ax.legend(*scatter.legend_elements(), title=\"Cluster\")\n",
    "    ax.add_artist(legend1)\n",
    "    plt.title(title, fontsize=18)\n",
    "    return X_, fit, db"
   ]
  },
  {
   "cell_type": "markdown",
   "id": "leading-prisoner",
   "metadata": {},
   "source": [
    "Warning! The next cell is for demonstration purposes, the actual cluster where found without the fixed random seed, with careful parameter search and on a specific date. The result are loaded back in the following cell"
   ]
  },
  {
   "cell_type": "code",
   "execution_count": null,
   "id": "absolute-framing",
   "metadata": {},
   "outputs": [],
   "source": [
    "df_, fit, db = draw_umap(n_neighbors=5, min_dist=.5, eps=1.5)"
   ]
  },
  {
   "cell_type": "code",
   "execution_count": null,
   "id": "ordered-folder",
   "metadata": {},
   "outputs": [],
   "source": [
    "df_ = read.csv('../cluster')"
   ]
  },
  {
   "cell_type": "code",
   "execution_count": null,
   "id": "opposed-background",
   "metadata": {},
   "outputs": [],
   "source": [
    "import joblib\n",
    "\n",
    "# This file can be downloaded from \n",
    "# https://drive.google.com/open?id=10mrRmB14J8NZCAU_n-ErBGd92fHQ8MrQ&authuser=mbucci%40uw.co.uk&usp=drive_fs\n",
    "\n",
    "df_ = joblib.load('clustered_df.jbl')['dataframe']"
   ]
  },
  {
   "cell_type": "code",
   "execution_count": null,
   "id": "adult-hawaii",
   "metadata": {},
   "outputs": [],
   "source": [
    "# Cluster 0: General low activity, possibly dormant\n",
    "# Cluster 1: highest RI, higher customer gathered\n",
    "# Cluster 2: higher articles view, higher portal logins, higher customer gathered\n",
    "# Cluster 3: Low activity, better than 0\n",
    "# Cluster 4: higher articles view, highest prospect views, highest n. logins (low customer)\n",
    "# Cluster 5: highest JTC application (low customer)\n",
    "# Cluster 6: medium-hi JTC application, very low portal activity (low customer)\n",
    "\n",
    "\n",
    "cluster_dict = {-1: -1, 0:0, 1:6, 2:5, 3:1, 4:2, 5:4, 6:3}\n",
    "df_['ord_clustered'] = df_['cluster'].map(cluster_dict)"
   ]
  },
  {
   "cell_type": "code",
   "execution_count": null,
   "id": "demographic-hollow",
   "metadata": {},
   "outputs": [],
   "source": [
    "df_.loc[:, \n",
    "        \"avg_monthly_ri_earned_last_1y\": ].groupby('ord_clustered').agg(['mean', 'median', 'max', 'min']).T"
   ]
  },
  {
   "cell_type": "code",
   "execution_count": null,
   "id": "dedicated-tunnel",
   "metadata": {},
   "outputs": [],
   "source": [
    "import plotly.graph_objects as go"
   ]
  },
  {
   "cell_type": "code",
   "execution_count": null,
   "id": "laughing-drain",
   "metadata": {},
   "outputs": [],
   "source": [
    "from scipy.stats import mode\n",
    "idxs = ['partner_position_id', 'snapshot_date']\n",
    "rolling_mode = df_.reset_index().sort_values(idxs).groupby(\n",
    "    'partner_position_id')['ord_clustered'].rolling(7, 1).agg(lambda x:x.value_counts().index[0])[::7].reset_index()"
   ]
  },
  {
   "cell_type": "code",
   "execution_count": null,
   "id": "afraid-costume",
   "metadata": {},
   "outputs": [],
   "source": [
    "rolling_mode['day'] = (rolling_mode.level_1 % 28 )"
   ]
  },
  {
   "cell_type": "code",
   "execution_count": null,
   "id": "exceptional-rendering",
   "metadata": {},
   "outputs": [],
   "source": [
    "rolling_mode['label'] = rolling_mode.day.astype(str) + 'C' + rolling_mode.ord_clustered.astype(int).astype(str)"
   ]
  },
  {
   "cell_type": "code",
   "execution_count": null,
   "id": "former-suffering",
   "metadata": {},
   "outputs": [],
   "source": [
    "pivoted = rolling_mode.sort_values(['partner_position_id', 'day']).pivot(columns='day', index='partner_position_id', values='label')"
   ]
  },
  {
   "cell_type": "code",
   "execution_count": null,
   "id": "contained-million",
   "metadata": {},
   "outputs": [],
   "source": [
    "dfs = []\n",
    "for p in zip(pivoted.columns[:-1], pivoted.columns[1:]):\n",
    "    _d = pivoted.groupby(list(p)).size().reset_index(name='count')\n",
    "    _d.columns = ['source', 'target', 'value']\n",
    "    dfs.append(_d)"
   ]
  },
  {
   "cell_type": "code",
   "execution_count": null,
   "id": "clear-scott",
   "metadata": {},
   "outputs": [],
   "source": [
    "sankey_data = pd.concat(dfs).reset_index(drop=True)"
   ]
  },
  {
   "cell_type": "code",
   "execution_count": null,
   "id": "automatic-collapse",
   "metadata": {},
   "outputs": [],
   "source": [
    "sankey_labels = sorted(list(set(sankey_data.source.unique().tolist() + sankey_data.target.unique().tolist())))\n",
    "sankey_sources = sankey_data.source.apply(lambda x: sankey_labels.index(x))\n",
    "sankey_targets = sankey_data.target.apply(lambda x: sankey_labels.index(x))"
   ]
  },
  {
   "cell_type": "code",
   "execution_count": null,
   "id": "judicial-scenario",
   "metadata": {},
   "outputs": [],
   "source": [
    "col_dicts = {'-1': 'grey', \n",
    "             '0': 'rgba(210, 34, 45, 0.8)', \n",
    "             '6': 'rgba(0, 112, 0, 0.8)', \n",
    "             '5': 'rgba(0, 112, 0, 0.8)', \n",
    "             '1': 'rgba(255, 150, 0, 0.8)', \n",
    "             '2': 'rgba(255, 230, 0, 0.8)', \n",
    "             '4': 'rgba(150, 200, 50, 0.8)', \n",
    "             '3': 'rgba(255, 230, 0, 0.8)'}\n",
    "\n",
    "node_col = [col_dicts.get(x.split('C')[-1]) for x in sankey_labels]"
   ]
  },
  {
   "cell_type": "code",
   "execution_count": null,
   "id": "available-comedy",
   "metadata": {},
   "outputs": [],
   "source": [
    "labels_dict = {'-1': ' TBD', \n",
    "             '0': '0 - Low activity, possibly dormant',              \n",
    "             '1': '1 - Low activity', \n",
    "             '2': '2 - High Portal activity, low gathering', \n",
    "             '4': '4 - High JTC activity, low gathering', \n",
    "             '3': '3 - Medium JTC activity, low portal activity',\n",
    "             '5': '5 - High Portal activity, good gathering',\n",
    "             '6': '6 - High RI, good gathering', }\n",
    "\n",
    "short_labels_dict = {'-1': ' TBD', \n",
    "             '0': '0 - Dormant', \n",
    "             '6': '6 - +RI, +Gathering', \n",
    "             '5': '5 - +Portal, +Gathering', \n",
    "             '1': '1 - -Portal', \n",
    "             '2': '2 - +Portal, -Gathering', \n",
    "             '4': '4 - ++JTC, -Gathering', \n",
    "             '3': '3 - +JTC, -Portal, -Gathering'}\n",
    "\n",
    "long_labels = [labels_dict.get(x.split('C')[-1]) if x.split('C')[0] == '0' else\n",
    "               short_labels_dict.get(x.split('C')[-1]) for x in sankey_labels]"
   ]
  },
  {
   "cell_type": "code",
   "execution_count": null,
   "id": "egyptian-moral",
   "metadata": {},
   "outputs": [],
   "source": [
    "import plotly.graph_objects as go\n",
    "\n",
    "fig = go.Figure(data=[go.Sankey(\n",
    "    node = dict(\n",
    "      pad = 15,\n",
    "      thickness = 20,\n",
    "      line = dict(color = \"black\", width = 0.5),\n",
    "      label = long_labels,\n",
    "      color = node_col\n",
    "    ),\n",
    "    link = dict(\n",
    "      source = sankey_sources, # indices correspond to labels, eg A1, A2, A1, B1, ...\n",
    "      target = sankey_targets,\n",
    "      value = sankey_data['value'],\n",
    "      color = [node_col[i].replace(\"0.8\", \"0.2\") for i in sankey_targets]\n",
    "  ))])\n",
    "\n",
    "fig.update_layout(title_text=\"Basic Flow analysis\", font_size=10)\n",
    "fig.show()"
   ]
  },
  {
   "cell_type": "code",
   "execution_count": null,
   "id": "radical-closer",
   "metadata": {},
   "outputs": [],
   "source": []
  }
 ],
 "metadata": {
  "kernelspec": {
   "display_name": "Python 3",
   "language": "python",
   "name": "python3"
  },
  "language_info": {
   "codemirror_mode": {
    "name": "ipython",
    "version": 3
   },
   "file_extension": ".py",
   "mimetype": "text/x-python",
   "name": "python",
   "nbconvert_exporter": "python",
   "pygments_lexer": "ipython3",
   "version": "3.8.8"
  }
 },
 "nbformat": 4,
 "nbformat_minor": 5
}
