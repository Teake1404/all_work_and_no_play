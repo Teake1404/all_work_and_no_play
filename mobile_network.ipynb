{
 "cells": [
  {
   "cell_type": "code",
   "execution_count": 3,
   "metadata": {},
   "outputs": [],
   "source": [
    "import pandas as pd\n",
    "import numpy as np\n",
    "import matplotlib.pyplot as plt\n",
    "import seaborn as sns\n",
    "%matplotlib inline\n",
    "import os\n",
    "import re\n",
    "from tqdm import tqdm\n",
    "from tqdm import tqdm_notebook\n",
    "import requests\n",
    "import json\n",
    "import requests_cache\n",
    "from IPython.core.display import clear_output\n",
    "import pydata_google_auth\n",
    "import pandas_gbq\n",
    "import warnings\n",
    "warnings.filterwarnings('ignore')\n",
    "from scipy import stats\n",
    "from scipy.stats import norm,skew\n",
    "import time\n",
    "from retry import retry"
   ]
  },
  {
   "cell_type": "code",
   "execution_count": 2,
   "metadata": {},
   "outputs": [],
   "source": [
    "!pip install pydata_google_auth pandas_gbq --quiet\n",
    "!pip install retry --quiet\n",
    "!pip install requests_cache --quiet"
   ]
  },
  {
   "cell_type": "code",
   "execution_count": 4,
   "metadata": {},
   "outputs": [],
   "source": [
    "SQL=\"\"\"\n",
    "WITH mobile_contacts AS\n",
    "    (\n",
    "    SELECT \n",
    "        customer_account\n",
    "        ,REPLACE(UPPER(postcode),' ','') AS postcode\n",
    "        ,mobile AS number_of_uw_mobiles_per_account\n",
    "        ,COALESCE(IFNULL(CASE WHEN custinvmobile LIKE '07%' AND LENGTH(custinvmobile) = 11 THEN custinvmobile ELSE NULL END\n",
    "                 ,IFNULL(CASE WHEN custmobile LIKE '07%' AND LENGTH(custmobile) = 11 THEN custmobile ELSE NULL END\n",
    "                 ,IFNULL(CASE WHEN custinvphone LIKE '07%' AND LENGTH(custinvphone) = 11 THEN custinvphone ELSE NULL END\n",
    "                 ,IFNULL(CASE WHEN custphone LIKE '07%' AND LENGTH(custphone) = 11 THEN custphone ELSE NULL END, '0'))))) AS account_mobile_contact\n",
    "        ,COUNT(postcode) AS accounts_in_postcode\n",
    "    FROM `uw-data-warehouse-dev.data_platform_customer.customer` \n",
    "    LEFT JOIN `uw-data-warehouse-dev.data_platform_bill.customer` ON custaccountno = customer_account\n",
    "    WHERE account_status = 'Live'\n",
    "        AND postcode != 'NW9 5AB' --Many mobiles registered at headoffice\n",
    "    GROUP BY 1,2,3,4\n",
    "    )\n",
    "SELECT \n",
    "    *\n",
    "FROM mobile_contacts\n",
    "ORDER BY 3 DESC, 5 DESC -- Ordered by number of mobiles\n",
    "\"\"\""
   ]
  },
  {
   "cell_type": "code",
   "execution_count": 5,
   "metadata": {},
   "outputs": [
    {
     "name": "stdout",
     "output_type": "stream",
     "text": [
      "Please visit this URL to authorize this application: https://accounts.google.com/o/oauth2/auth?response_type=code&client_id=262006177488-3425ks60hkk80fssi9vpohv88g6q1iqd.apps.googleusercontent.com&redirect_uri=urn%3Aietf%3Awg%3Aoauth%3A2.0%3Aoob&scope=https%3A%2F%2Fwww.googleapis.com%2Fauth%2Fbigquery&state=ynvrSD5LYWE3BdvoTbpRfu18N6lfrU&prompt=consent&access_type=offline\n",
      "Enter the authorization code: 4/1gFSsQ-zq5ro_SIsfS5QSSnlYNqAAbAq5Tj06z_lH16YtRHZnPATXD0\n"
     ]
    }
   ],
   "source": [
    "cache=pydata_google_auth.cache.NOOP\n",
    "auth=pydata_google_auth.get_user_credentials(scopes=[\"https://www.googleapis.com/auth/bigquery\"], \n",
    "                                               credentials_cache=cache)"
   ]
  },
  {
   "cell_type": "code",
   "execution_count": 6,
   "metadata": {},
   "outputs": [
    {
     "name": "stderr",
     "output_type": "stream",
     "text": [
      "Downloading: 100%|██████████| 648628/648628 [00:29<00:00, 22337.39rows/s]\n"
     ]
    }
   ],
   "source": [
    "PROJECT = \"uw-data-warehouse-prod\"\n",
    "df=pandas_gbq.read_gbq(SQL,credentials=auth,project_id=PROJECT)"
   ]
  },
  {
   "cell_type": "code",
   "execution_count": 5,
   "metadata": {},
   "outputs": [],
   "source": [
    "postcodes_pickle_path='postcodes.pkl'\n",
    "if os.path.isfile(postcodes_pickle_path):\n",
    "    postcodes=pd.read_pickle('postcodes.pkl')\n",
    "else: \n",
    "    postcodes=pandas_gbq.read_gbq(SQL,credentials=auth,project_id=PROJECT)\n",
    "    df.to_pickle(postcodes_pickle_path)"
   ]
  },
  {
   "cell_type": "code",
   "execution_count": null,
   "metadata": {},
   "outputs": [],
   "source": [
    "if os.path.isfile(postcodes_pickle_path):\n",
    "    postcodes=pd.read_pickle('')\n",
    "else:\n",
    "    "
   ]
  },
  {
   "cell_type": "code",
   "execution_count": 37,
   "metadata": {},
   "outputs": [],
   "source": [
    "os.makedirs('responses', exist_ok=True)\n",
    "@retry(delay=5,backoff=5)\n",
    "def fetch(postcode):\n",
    "    fname=f'./responses/{postcode}.txt'\n",
    "    if os.path.isfile(fname):\n",
    "        return \n",
    "    base_url=f'https://ofcomapi.samknows.com/mobile-coverage-pc-enhanced?postcode={postcode}'    \n",
    "    with open(fname,'w') as f:\n",
    "         f.write(json.dumps(requests.get(base_url).json()))"
   ]
  },
  {
   "cell_type": "code",
   "execution_count": 38,
   "metadata": {},
   "outputs": [
    {
     "data": {
      "application/vnd.jupyter.widget-view+json": {
       "model_id": "14e50bce34c54efa84919a3a94ebf80c",
       "version_major": 2,
       "version_minor": 0
      },
      "text/plain": [
       "HBox(children=(FloatProgress(value=0.0, max=435594.0), HTML(value='')))"
      ]
     },
     "metadata": {},
     "output_type": "display_data"
    },
    {
     "name": "stdout",
     "output_type": "stream",
     "text": [
      "\n"
     ]
    }
   ],
   "source": [
    "postcodes_tqdm=tqdm_notebook(postcodes.postcode.tolist(), total=len(set(postcodes.postcode.tolist())))\n",
    "for postcode in postcodes_tqdm:\n",
    "    postcodes_tqdm.set_description(\"Processing {}\".format(postcode))\n",
    "    fetch(postcode)"
   ]
  },
  {
   "cell_type": "markdown",
   "metadata": {},
   "source": [
    "## Scrape broadband api"
   ]
  },
  {
   "cell_type": "code",
   "execution_count": 12,
   "metadata": {},
   "outputs": [],
   "source": [
    "mobile_postcodes=pd.read_csv('mobile_postcodes.csv')"
   ]
  },
  {
   "cell_type": "code",
   "execution_count": 19,
   "metadata": {},
   "outputs": [],
   "source": [
    "os.makedirs('mobile_responses',exist_ok=True)\n",
    "@retry(delay=5,backoff=5)\n",
    "def fetch(postcode):\n",
    "    fname=f'./mobile_responses/{postcode}.txt'\n",
    "    if os.path.isfile(fname):\n",
    "        return \n",
    "    base_url=f'https://ofcomapi.samknows.com/fixed-line-coverage-pc?postcode={postcode}'\n",
    "    with open(fname,'w') as f:\n",
    "        f.write(json.dumps(requests.get(base_url).json()))"
   ]
  },
  {
   "cell_type": "code",
   "execution_count": 20,
   "metadata": {},
   "outputs": [
    {
     "data": {
      "application/vnd.jupyter.widget-view+json": {
       "model_id": "ef986698cd544bfd859757f381d3d546",
       "version_major": 2,
       "version_minor": 0
      },
      "text/plain": [
       "HBox(children=(FloatProgress(value=0.0, max=188026.0), HTML(value='')))"
      ]
     },
     "metadata": {},
     "output_type": "display_data"
    },
    {
     "name": "stderr",
     "output_type": "stream",
     "text": [
      "IOPub message rate exceeded.\n",
      "The notebook server will temporarily stop sending output\n",
      "to the client in order to avoid crashing it.\n",
      "To change this limit, set the config variable\n",
      "`--NotebookApp.iopub_msg_rate_limit`.\n",
      "\n",
      "Current values:\n",
      "NotebookApp.iopub_msg_rate_limit=1000.0 (msgs/sec)\n",
      "NotebookApp.rate_limit_window=3.0 (secs)\n",
      "\n",
      "IOPub message rate exceeded.\n",
      "The notebook server will temporarily stop sending output\n",
      "to the client in order to avoid crashing it.\n",
      "To change this limit, set the config variable\n",
      "`--NotebookApp.iopub_msg_rate_limit`.\n",
      "\n",
      "Current values:\n",
      "NotebookApp.iopub_msg_rate_limit=1000.0 (msgs/sec)\n",
      "NotebookApp.rate_limit_window=3.0 (secs)\n",
      "\n",
      "IOPub message rate exceeded.\n",
      "The notebook server will temporarily stop sending output\n",
      "to the client in order to avoid crashing it.\n",
      "To change this limit, set the config variable\n",
      "`--NotebookApp.iopub_msg_rate_limit`.\n",
      "\n",
      "Current values:\n",
      "NotebookApp.iopub_msg_rate_limit=1000.0 (msgs/sec)\n",
      "NotebookApp.rate_limit_window=3.0 (secs)\n",
      "\n",
      "IOPub message rate exceeded.\n",
      "The notebook server will temporarily stop sending output\n",
      "to the client in order to avoid crashing it.\n",
      "To change this limit, set the config variable\n",
      "`--NotebookApp.iopub_msg_rate_limit`.\n",
      "\n",
      "Current values:\n",
      "NotebookApp.iopub_msg_rate_limit=1000.0 (msgs/sec)\n",
      "NotebookApp.rate_limit_window=3.0 (secs)\n",
      "\n",
      "IOPub message rate exceeded.\n",
      "The notebook server will temporarily stop sending output\n",
      "to the client in order to avoid crashing it.\n",
      "To change this limit, set the config variable\n",
      "`--NotebookApp.iopub_msg_rate_limit`.\n",
      "\n",
      "Current values:\n",
      "NotebookApp.iopub_msg_rate_limit=1000.0 (msgs/sec)\n",
      "NotebookApp.rate_limit_window=3.0 (secs)\n",
      "\n",
      "IOPub message rate exceeded.\n",
      "The notebook server will temporarily stop sending output\n",
      "to the client in order to avoid crashing it.\n",
      "To change this limit, set the config variable\n",
      "`--NotebookApp.iopub_msg_rate_limit`.\n",
      "\n",
      "Current values:\n",
      "NotebookApp.iopub_msg_rate_limit=1000.0 (msgs/sec)\n",
      "NotebookApp.rate_limit_window=3.0 (secs)\n",
      "\n",
      "IOPub message rate exceeded.\n",
      "The notebook server will temporarily stop sending output\n",
      "to the client in order to avoid crashing it.\n",
      "To change this limit, set the config variable\n",
      "`--NotebookApp.iopub_msg_rate_limit`.\n",
      "\n",
      "Current values:\n",
      "NotebookApp.iopub_msg_rate_limit=1000.0 (msgs/sec)\n",
      "NotebookApp.rate_limit_window=3.0 (secs)\n",
      "\n",
      "IOPub message rate exceeded.\n",
      "The notebook server will temporarily stop sending output\n",
      "to the client in order to avoid crashing it.\n",
      "To change this limit, set the config variable\n",
      "`--NotebookApp.iopub_msg_rate_limit`.\n",
      "\n",
      "Current values:\n",
      "NotebookApp.iopub_msg_rate_limit=1000.0 (msgs/sec)\n",
      "NotebookApp.rate_limit_window=3.0 (secs)\n",
      "\n",
      "IOPub message rate exceeded.\n",
      "The notebook server will temporarily stop sending output\n",
      "to the client in order to avoid crashing it.\n",
      "To change this limit, set the config variable\n",
      "`--NotebookApp.iopub_msg_rate_limit`.\n",
      "\n",
      "Current values:\n",
      "NotebookApp.iopub_msg_rate_limit=1000.0 (msgs/sec)\n",
      "NotebookApp.rate_limit_window=3.0 (secs)\n",
      "\n",
      "IOPub message rate exceeded.\n",
      "The notebook server will temporarily stop sending output\n",
      "to the client in order to avoid crashing it.\n",
      "To change this limit, set the config variable\n",
      "`--NotebookApp.iopub_msg_rate_limit`.\n",
      "\n",
      "Current values:\n",
      "NotebookApp.iopub_msg_rate_limit=1000.0 (msgs/sec)\n",
      "NotebookApp.rate_limit_window=3.0 (secs)\n",
      "\n",
      "IOPub message rate exceeded.\n",
      "The notebook server will temporarily stop sending output\n",
      "to the client in order to avoid crashing it.\n",
      "To change this limit, set the config variable\n",
      "`--NotebookApp.iopub_msg_rate_limit`.\n",
      "\n",
      "Current values:\n",
      "NotebookApp.iopub_msg_rate_limit=1000.0 (msgs/sec)\n",
      "NotebookApp.rate_limit_window=3.0 (secs)\n",
      "\n",
      "IOPub message rate exceeded.\n",
      "The notebook server will temporarily stop sending output\n",
      "to the client in order to avoid crashing it.\n",
      "To change this limit, set the config variable\n",
      "`--NotebookApp.iopub_msg_rate_limit`.\n",
      "\n",
      "Current values:\n",
      "NotebookApp.iopub_msg_rate_limit=1000.0 (msgs/sec)\n",
      "NotebookApp.rate_limit_window=3.0 (secs)\n",
      "\n"
     ]
    },
    {
     "name": "stdout",
     "output_type": "stream",
     "text": [
      "\n"
     ]
    }
   ],
   "source": [
    "postcodes_tqdm=tqdm_notebook(mobile_postcodes.postcode.tolist(),total=len(set(mobile_postcodes.postcode.tolist())))\n",
    "for postcode in postcodes_tqdm:\n",
    "    postcodes_tqdm.set_description('Processing {}'.format(postcode))\n",
    "    fetch(postcode)"
   ]
  },
  {
   "cell_type": "code",
   "execution_count": null,
   "metadata": {},
   "outputs": [],
   "source": []
  },
  {
   "cell_type": "code",
   "execution_count": null,
   "metadata": {},
   "outputs": [],
   "source": []
  },
  {
   "cell_type": "code",
   "execution_count": 15,
   "metadata": {},
   "outputs": [],
   "source": [
    "url=f'https://ofcomapi.samknows.com/fixed-line-coverage-pc?postcode=SE114HQ'"
   ]
  },
  {
   "cell_type": "code",
   "execution_count": 17,
   "metadata": {},
   "outputs": [
    {
     "data": {
      "text/plain": [
       "{'data': {'postcode': 'SE114HQ',\n",
       "  'max_adsl_predicted_down': 19,\n",
       "  'max_adsl_predicted_up': 1,\n",
       "  'max_sfbb_predicted_down': 200,\n",
       "  'max_sfbb_predicted_up': 20,\n",
       "  'max_ufbb_predicted_down': -1,\n",
       "  'max_ufbb_predicted_up': -1,\n",
       "  'adsl_availability': 100,\n",
       "  'sfbb_availability': 100,\n",
       "  'ufbb_availability': 0},\n",
       " 'code': 'OK',\n",
       " 'message': 'Request Successful'}"
      ]
     },
     "execution_count": 17,
     "metadata": {},
     "output_type": "execute_result"
    }
   ],
   "source": [
    "json.dumps(requests.get(url).json())"
   ]
  },
  {
   "cell_type": "code",
   "execution_count": null,
   "metadata": {},
   "outputs": [],
   "source": []
  },
  {
   "cell_type": "code",
   "execution_count": null,
   "metadata": {},
   "outputs": [],
   "source": []
  },
  {
   "cell_type": "code",
   "execution_count": 93,
   "metadata": {},
   "outputs": [],
   "source": [
    "text='SE114HQ'\n",
    "a='w36qs'"
   ]
  },
  {
   "cell_type": "code",
   "execution_count": 109,
   "metadata": {},
   "outputs": [
    {
     "data": {
      "text/plain": [
       "'SE'"
      ]
     },
     "execution_count": 109,
     "metadata": {},
     "output_type": "execute_result"
    }
   ],
   "source": [
    "re.split(r'[0-9]+',text)[0]"
   ]
  },
  {
   "cell_type": "code",
   "execution_count": null,
   "metadata": {},
   "outputs": [],
   "source": [
    "pd.read_csv('speed_new.csv')"
   ]
  },
  {
   "cell_type": "code",
   "execution_count": null,
   "metadata": {},
   "outputs": [],
   "source": []
  }
 ],
 "metadata": {
  "kernelspec": {
   "display_name": "Python 3",
   "language": "python",
   "name": "python3"
  },
  "language_info": {
   "codemirror_mode": {
    "name": "ipython",
    "version": 3
   },
   "file_extension": ".py",
   "mimetype": "text/x-python",
   "name": "python",
   "nbconvert_exporter": "python",
   "pygments_lexer": "ipython3",
   "version": "3.8.8"
  }
 },
 "nbformat": 4,
 "nbformat_minor": 4
}
